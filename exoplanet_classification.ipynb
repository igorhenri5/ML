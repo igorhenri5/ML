{
 "cells": [
  {
   "cell_type": "markdown",
   "metadata": {
    "id": "_lAlowAPy4C0"
   },
   "source": [
    "# Classificação de Exoplanetas\n"
   ]
  },
  {
   "cell_type": "markdown",
   "metadata": {},
   "source": [
    "## 1 Setup"
   ]
  },
  {
   "cell_type": "markdown",
   "metadata": {},
   "source": [
    "### 1.1 Carregando o dataset"
   ]
  },
  {
   "cell_type": "code",
   "execution_count": 1,
   "metadata": {
    "colab": {
     "base_uri": "https://localhost:8080/",
     "height": 281
    },
    "id": "c8fJYPYdy2fU",
    "outputId": "95c07641-521f-47f6-db5c-a4e269104a98"
   },
   "outputs": [],
   "source": [
    "import numpy as np\n",
    "import pandas as pd\n",
    "import sklearn as sk\n",
    "from matplotlib import pyplot as plt\n",
    "from csv import reader\n",
    "from sklearn import metrics\n",
    "from sklearn.model_selection import train_test_split\n",
    "from sklearn.model_selection import cross_val_score\n",
    "from sklearn.model_selection import GridSearchCV"
   ]
  },
  {
   "cell_type": "code",
   "execution_count": 2,
   "metadata": {
    "id": "z_rGef7qMDYU",
    "scrolled": false
   },
   "outputs": [],
   "source": [
    "data = pd.read_csv(\"koi_data.csv\") "
   ]
  },
  {
   "cell_type": "code",
   "execution_count": 3,
   "metadata": {
    "scrolled": true
   },
   "outputs": [
    {
     "data": {
      "text/html": [
       "<div>\n",
       "<style scoped>\n",
       "    .dataframe tbody tr th:only-of-type {\n",
       "        vertical-align: middle;\n",
       "    }\n",
       "\n",
       "    .dataframe tbody tr th {\n",
       "        vertical-align: top;\n",
       "    }\n",
       "\n",
       "    .dataframe thead th {\n",
       "        text-align: right;\n",
       "    }\n",
       "</style>\n",
       "<table border=\"1\" class=\"dataframe\">\n",
       "  <thead>\n",
       "    <tr style=\"text-align: right;\">\n",
       "      <th></th>\n",
       "      <th>kepoi_name</th>\n",
       "      <th>koi_disposition</th>\n",
       "      <th>koi_period</th>\n",
       "      <th>koi_impact</th>\n",
       "      <th>koi_duration</th>\n",
       "      <th>koi_depth</th>\n",
       "      <th>koi_ror</th>\n",
       "      <th>koi_srho</th>\n",
       "      <th>koi_prad</th>\n",
       "      <th>koi_sma</th>\n",
       "      <th>...</th>\n",
       "      <th>koi_fwm_srao</th>\n",
       "      <th>koi_fwm_sdeco</th>\n",
       "      <th>koi_fwm_prao</th>\n",
       "      <th>koi_fwm_pdeco</th>\n",
       "      <th>koi_dicco_mra</th>\n",
       "      <th>koi_dicco_mdec</th>\n",
       "      <th>koi_dicco_msky</th>\n",
       "      <th>koi_dikco_mra</th>\n",
       "      <th>koi_dikco_mdec</th>\n",
       "      <th>koi_dikco_msky</th>\n",
       "    </tr>\n",
       "  </thead>\n",
       "  <tbody>\n",
       "    <tr>\n",
       "      <th>0</th>\n",
       "      <td>K00752.01</td>\n",
       "      <td>CONFIRMED</td>\n",
       "      <td>9.48804</td>\n",
       "      <td>0.146</td>\n",
       "      <td>2.95750</td>\n",
       "      <td>615.8</td>\n",
       "      <td>0.02234</td>\n",
       "      <td>3.20796</td>\n",
       "      <td>2.26</td>\n",
       "      <td>0.0853</td>\n",
       "      <td>...</td>\n",
       "      <td>0.430</td>\n",
       "      <td>0.940</td>\n",
       "      <td>-0.00020</td>\n",
       "      <td>-0.00055</td>\n",
       "      <td>-0.010</td>\n",
       "      <td>0.200</td>\n",
       "      <td>0.200</td>\n",
       "      <td>0.080</td>\n",
       "      <td>0.310</td>\n",
       "      <td>0.320</td>\n",
       "    </tr>\n",
       "    <tr>\n",
       "      <th>1</th>\n",
       "      <td>K00752.02</td>\n",
       "      <td>CONFIRMED</td>\n",
       "      <td>54.41838</td>\n",
       "      <td>0.586</td>\n",
       "      <td>4.50700</td>\n",
       "      <td>874.8</td>\n",
       "      <td>0.02795</td>\n",
       "      <td>3.02368</td>\n",
       "      <td>2.83</td>\n",
       "      <td>0.2734</td>\n",
       "      <td>...</td>\n",
       "      <td>-0.630</td>\n",
       "      <td>1.230</td>\n",
       "      <td>0.00066</td>\n",
       "      <td>-0.00105</td>\n",
       "      <td>0.390</td>\n",
       "      <td>0.000</td>\n",
       "      <td>0.390</td>\n",
       "      <td>0.490</td>\n",
       "      <td>0.120</td>\n",
       "      <td>0.500</td>\n",
       "    </tr>\n",
       "    <tr>\n",
       "      <th>2</th>\n",
       "      <td>K00754.01</td>\n",
       "      <td>FALSE POSITIVE</td>\n",
       "      <td>1.73695</td>\n",
       "      <td>1.276</td>\n",
       "      <td>2.40641</td>\n",
       "      <td>8079.2</td>\n",
       "      <td>0.38739</td>\n",
       "      <td>0.22080</td>\n",
       "      <td>33.46</td>\n",
       "      <td>0.0267</td>\n",
       "      <td>...</td>\n",
       "      <td>-0.111</td>\n",
       "      <td>0.002</td>\n",
       "      <td>0.00302</td>\n",
       "      <td>-0.00142</td>\n",
       "      <td>-0.249</td>\n",
       "      <td>0.147</td>\n",
       "      <td>0.289</td>\n",
       "      <td>-0.257</td>\n",
       "      <td>0.099</td>\n",
       "      <td>0.276</td>\n",
       "    </tr>\n",
       "    <tr>\n",
       "      <th>3</th>\n",
       "      <td>K00755.01</td>\n",
       "      <td>CONFIRMED</td>\n",
       "      <td>2.52559</td>\n",
       "      <td>0.701</td>\n",
       "      <td>1.65450</td>\n",
       "      <td>603.3</td>\n",
       "      <td>0.02406</td>\n",
       "      <td>1.98635</td>\n",
       "      <td>2.75</td>\n",
       "      <td>0.0374</td>\n",
       "      <td>...</td>\n",
       "      <td>-0.010</td>\n",
       "      <td>0.230</td>\n",
       "      <td>0.00008</td>\n",
       "      <td>-0.00007</td>\n",
       "      <td>0.030</td>\n",
       "      <td>-0.090</td>\n",
       "      <td>0.100</td>\n",
       "      <td>0.070</td>\n",
       "      <td>0.020</td>\n",
       "      <td>0.070</td>\n",
       "    </tr>\n",
       "    <tr>\n",
       "      <th>4</th>\n",
       "      <td>K00114.01</td>\n",
       "      <td>FALSE POSITIVE</td>\n",
       "      <td>7.36179</td>\n",
       "      <td>1.169</td>\n",
       "      <td>5.02200</td>\n",
       "      <td>233.7</td>\n",
       "      <td>0.18339</td>\n",
       "      <td>0.00485</td>\n",
       "      <td>39.21</td>\n",
       "      <td>0.0820</td>\n",
       "      <td>...</td>\n",
       "      <td>-13.450</td>\n",
       "      <td>24.090</td>\n",
       "      <td>0.00303</td>\n",
       "      <td>-0.00555</td>\n",
       "      <td>-4.506</td>\n",
       "      <td>7.710</td>\n",
       "      <td>8.930</td>\n",
       "      <td>-4.537</td>\n",
       "      <td>7.713</td>\n",
       "      <td>8.948</td>\n",
       "    </tr>\n",
       "  </tbody>\n",
       "</table>\n",
       "<p>5 rows × 43 columns</p>\n",
       "</div>"
      ],
      "text/plain": [
       "  kepoi_name koi_disposition  koi_period  koi_impact  koi_duration  koi_depth  \\\n",
       "0  K00752.01       CONFIRMED     9.48804       0.146       2.95750      615.8   \n",
       "1  K00752.02       CONFIRMED    54.41838       0.586       4.50700      874.8   \n",
       "2  K00754.01  FALSE POSITIVE     1.73695       1.276       2.40641     8079.2   \n",
       "3  K00755.01       CONFIRMED     2.52559       0.701       1.65450      603.3   \n",
       "4  K00114.01  FALSE POSITIVE     7.36179       1.169       5.02200      233.7   \n",
       "\n",
       "   koi_ror  koi_srho  koi_prad  koi_sma  ...  koi_fwm_srao  koi_fwm_sdeco  \\\n",
       "0  0.02234   3.20796      2.26   0.0853  ...         0.430          0.940   \n",
       "1  0.02795   3.02368      2.83   0.2734  ...        -0.630          1.230   \n",
       "2  0.38739   0.22080     33.46   0.0267  ...        -0.111          0.002   \n",
       "3  0.02406   1.98635      2.75   0.0374  ...        -0.010          0.230   \n",
       "4  0.18339   0.00485     39.21   0.0820  ...       -13.450         24.090   \n",
       "\n",
       "   koi_fwm_prao  koi_fwm_pdeco  koi_dicco_mra  koi_dicco_mdec  koi_dicco_msky  \\\n",
       "0      -0.00020       -0.00055         -0.010           0.200           0.200   \n",
       "1       0.00066       -0.00105          0.390           0.000           0.390   \n",
       "2       0.00302       -0.00142         -0.249           0.147           0.289   \n",
       "3       0.00008       -0.00007          0.030          -0.090           0.100   \n",
       "4       0.00303       -0.00555         -4.506           7.710           8.930   \n",
       "\n",
       "   koi_dikco_mra  koi_dikco_mdec  koi_dikco_msky  \n",
       "0          0.080           0.310           0.320  \n",
       "1          0.490           0.120           0.500  \n",
       "2         -0.257           0.099           0.276  \n",
       "3          0.070           0.020           0.070  \n",
       "4         -4.537           7.713           8.948  \n",
       "\n",
       "[5 rows x 43 columns]"
      ]
     },
     "execution_count": 3,
     "metadata": {},
     "output_type": "execute_result"
    }
   ],
   "source": [
    "data.head()"
   ]
  },
  {
   "cell_type": "markdown",
   "metadata": {},
   "source": [
    "### 1.2 Tratando os dados"
   ]
  },
  {
   "cell_type": "markdown",
   "metadata": {},
   "source": [
    "Considerando a variedade na magnitude dos campos e a presença de campos textuais, iremos tratar os dados antes de prosseguir para os métodos de classificação."
   ]
  },
  {
   "cell_type": "markdown",
   "metadata": {},
   "source": [
    "- Lidando com campos não númericos"
   ]
  },
  {
   "cell_type": "code",
   "execution_count": 4,
   "metadata": {},
   "outputs": [],
   "source": [
    "data = data.replace(\"CONFIRMED\", \"1\", regex=True)\n",
    "data = data.replace(\"FALSE POSITIVE\", \"0\", regex=True)\n",
    "data.drop('kepoi_name', axis=1, inplace=True)"
   ]
  },
  {
   "cell_type": "code",
   "execution_count": 5,
   "metadata": {},
   "outputs": [
    {
     "data": {
      "text/html": [
       "<div>\n",
       "<style scoped>\n",
       "    .dataframe tbody tr th:only-of-type {\n",
       "        vertical-align: middle;\n",
       "    }\n",
       "\n",
       "    .dataframe tbody tr th {\n",
       "        vertical-align: top;\n",
       "    }\n",
       "\n",
       "    .dataframe thead th {\n",
       "        text-align: right;\n",
       "    }\n",
       "</style>\n",
       "<table border=\"1\" class=\"dataframe\">\n",
       "  <thead>\n",
       "    <tr style=\"text-align: right;\">\n",
       "      <th></th>\n",
       "      <th>koi_disposition</th>\n",
       "      <th>koi_period</th>\n",
       "      <th>koi_impact</th>\n",
       "      <th>koi_duration</th>\n",
       "      <th>koi_depth</th>\n",
       "      <th>koi_ror</th>\n",
       "      <th>koi_srho</th>\n",
       "      <th>koi_prad</th>\n",
       "      <th>koi_sma</th>\n",
       "      <th>koi_incl</th>\n",
       "      <th>...</th>\n",
       "      <th>koi_fwm_srao</th>\n",
       "      <th>koi_fwm_sdeco</th>\n",
       "      <th>koi_fwm_prao</th>\n",
       "      <th>koi_fwm_pdeco</th>\n",
       "      <th>koi_dicco_mra</th>\n",
       "      <th>koi_dicco_mdec</th>\n",
       "      <th>koi_dicco_msky</th>\n",
       "      <th>koi_dikco_mra</th>\n",
       "      <th>koi_dikco_mdec</th>\n",
       "      <th>koi_dikco_msky</th>\n",
       "    </tr>\n",
       "  </thead>\n",
       "  <tbody>\n",
       "    <tr>\n",
       "      <th>0</th>\n",
       "      <td>1</td>\n",
       "      <td>9.48804</td>\n",
       "      <td>0.146</td>\n",
       "      <td>2.95750</td>\n",
       "      <td>615.8</td>\n",
       "      <td>0.02234</td>\n",
       "      <td>3.20796</td>\n",
       "      <td>2.26</td>\n",
       "      <td>0.0853</td>\n",
       "      <td>89.66</td>\n",
       "      <td>...</td>\n",
       "      <td>0.430</td>\n",
       "      <td>0.940</td>\n",
       "      <td>-0.00020</td>\n",
       "      <td>-0.00055</td>\n",
       "      <td>-0.010</td>\n",
       "      <td>0.200</td>\n",
       "      <td>0.200</td>\n",
       "      <td>0.080</td>\n",
       "      <td>0.310</td>\n",
       "      <td>0.320</td>\n",
       "    </tr>\n",
       "    <tr>\n",
       "      <th>1</th>\n",
       "      <td>1</td>\n",
       "      <td>54.41838</td>\n",
       "      <td>0.586</td>\n",
       "      <td>4.50700</td>\n",
       "      <td>874.8</td>\n",
       "      <td>0.02795</td>\n",
       "      <td>3.02368</td>\n",
       "      <td>2.83</td>\n",
       "      <td>0.2734</td>\n",
       "      <td>89.57</td>\n",
       "      <td>...</td>\n",
       "      <td>-0.630</td>\n",
       "      <td>1.230</td>\n",
       "      <td>0.00066</td>\n",
       "      <td>-0.00105</td>\n",
       "      <td>0.390</td>\n",
       "      <td>0.000</td>\n",
       "      <td>0.390</td>\n",
       "      <td>0.490</td>\n",
       "      <td>0.120</td>\n",
       "      <td>0.500</td>\n",
       "    </tr>\n",
       "    <tr>\n",
       "      <th>2</th>\n",
       "      <td>0</td>\n",
       "      <td>1.73695</td>\n",
       "      <td>1.276</td>\n",
       "      <td>2.40641</td>\n",
       "      <td>8079.2</td>\n",
       "      <td>0.38739</td>\n",
       "      <td>0.22080</td>\n",
       "      <td>33.46</td>\n",
       "      <td>0.0267</td>\n",
       "      <td>67.09</td>\n",
       "      <td>...</td>\n",
       "      <td>-0.111</td>\n",
       "      <td>0.002</td>\n",
       "      <td>0.00302</td>\n",
       "      <td>-0.00142</td>\n",
       "      <td>-0.249</td>\n",
       "      <td>0.147</td>\n",
       "      <td>0.289</td>\n",
       "      <td>-0.257</td>\n",
       "      <td>0.099</td>\n",
       "      <td>0.276</td>\n",
       "    </tr>\n",
       "    <tr>\n",
       "      <th>3</th>\n",
       "      <td>1</td>\n",
       "      <td>2.52559</td>\n",
       "      <td>0.701</td>\n",
       "      <td>1.65450</td>\n",
       "      <td>603.3</td>\n",
       "      <td>0.02406</td>\n",
       "      <td>1.98635</td>\n",
       "      <td>2.75</td>\n",
       "      <td>0.0374</td>\n",
       "      <td>85.41</td>\n",
       "      <td>...</td>\n",
       "      <td>-0.010</td>\n",
       "      <td>0.230</td>\n",
       "      <td>0.00008</td>\n",
       "      <td>-0.00007</td>\n",
       "      <td>0.030</td>\n",
       "      <td>-0.090</td>\n",
       "      <td>0.100</td>\n",
       "      <td>0.070</td>\n",
       "      <td>0.020</td>\n",
       "      <td>0.070</td>\n",
       "    </tr>\n",
       "    <tr>\n",
       "      <th>4</th>\n",
       "      <td>0</td>\n",
       "      <td>7.36179</td>\n",
       "      <td>1.169</td>\n",
       "      <td>5.02200</td>\n",
       "      <td>233.7</td>\n",
       "      <td>0.18339</td>\n",
       "      <td>0.00485</td>\n",
       "      <td>39.21</td>\n",
       "      <td>0.0820</td>\n",
       "      <td>60.92</td>\n",
       "      <td>...</td>\n",
       "      <td>-13.450</td>\n",
       "      <td>24.090</td>\n",
       "      <td>0.00303</td>\n",
       "      <td>-0.00555</td>\n",
       "      <td>-4.506</td>\n",
       "      <td>7.710</td>\n",
       "      <td>8.930</td>\n",
       "      <td>-4.537</td>\n",
       "      <td>7.713</td>\n",
       "      <td>8.948</td>\n",
       "    </tr>\n",
       "  </tbody>\n",
       "</table>\n",
       "<p>5 rows × 42 columns</p>\n",
       "</div>"
      ],
      "text/plain": [
       "  koi_disposition  koi_period  koi_impact  koi_duration  koi_depth  koi_ror  \\\n",
       "0               1     9.48804       0.146       2.95750      615.8  0.02234   \n",
       "1               1    54.41838       0.586       4.50700      874.8  0.02795   \n",
       "2               0     1.73695       1.276       2.40641     8079.2  0.38739   \n",
       "3               1     2.52559       0.701       1.65450      603.3  0.02406   \n",
       "4               0     7.36179       1.169       5.02200      233.7  0.18339   \n",
       "\n",
       "   koi_srho  koi_prad  koi_sma  koi_incl  ...  koi_fwm_srao  koi_fwm_sdeco  \\\n",
       "0   3.20796      2.26   0.0853     89.66  ...         0.430          0.940   \n",
       "1   3.02368      2.83   0.2734     89.57  ...        -0.630          1.230   \n",
       "2   0.22080     33.46   0.0267     67.09  ...        -0.111          0.002   \n",
       "3   1.98635      2.75   0.0374     85.41  ...        -0.010          0.230   \n",
       "4   0.00485     39.21   0.0820     60.92  ...       -13.450         24.090   \n",
       "\n",
       "   koi_fwm_prao  koi_fwm_pdeco  koi_dicco_mra  koi_dicco_mdec  koi_dicco_msky  \\\n",
       "0      -0.00020       -0.00055         -0.010           0.200           0.200   \n",
       "1       0.00066       -0.00105          0.390           0.000           0.390   \n",
       "2       0.00302       -0.00142         -0.249           0.147           0.289   \n",
       "3       0.00008       -0.00007          0.030          -0.090           0.100   \n",
       "4       0.00303       -0.00555         -4.506           7.710           8.930   \n",
       "\n",
       "   koi_dikco_mra  koi_dikco_mdec  koi_dikco_msky  \n",
       "0          0.080           0.310           0.320  \n",
       "1          0.490           0.120           0.500  \n",
       "2         -0.257           0.099           0.276  \n",
       "3          0.070           0.020           0.070  \n",
       "4         -4.537           7.713           8.948  \n",
       "\n",
       "[5 rows x 42 columns]"
      ]
     },
     "execution_count": 5,
     "metadata": {},
     "output_type": "execute_result"
    }
   ],
   "source": [
    "data.head()"
   ]
  },
  {
   "cell_type": "markdown",
   "metadata": {},
   "source": [
    "- Normalizando os dados"
   ]
  },
  {
   "cell_type": "code",
   "execution_count": 6,
   "metadata": {
    "id": "EspmIxqVMHkP"
   },
   "outputs": [],
   "source": [
    "from sklearn.preprocessing import  MinMaxScaler\n",
    "\n",
    "scaler = MinMaxScaler(feature_range = (0,1))\n",
    "scaled_data = scaler.fit_transform(data.values)\n",
    "\n",
    "scaled_data = pd.DataFrame(scaled_data)"
   ]
  },
  {
   "cell_type": "code",
   "execution_count": 7,
   "metadata": {},
   "outputs": [
    {
     "data": {
      "text/html": [
       "<div>\n",
       "<style scoped>\n",
       "    .dataframe tbody tr th:only-of-type {\n",
       "        vertical-align: middle;\n",
       "    }\n",
       "\n",
       "    .dataframe tbody tr th {\n",
       "        vertical-align: top;\n",
       "    }\n",
       "\n",
       "    .dataframe thead th {\n",
       "        text-align: right;\n",
       "    }\n",
       "</style>\n",
       "<table border=\"1\" class=\"dataframe\">\n",
       "  <thead>\n",
       "    <tr style=\"text-align: right;\">\n",
       "      <th></th>\n",
       "      <th>0</th>\n",
       "      <th>1</th>\n",
       "      <th>2</th>\n",
       "      <th>3</th>\n",
       "      <th>4</th>\n",
       "      <th>5</th>\n",
       "      <th>6</th>\n",
       "      <th>7</th>\n",
       "      <th>8</th>\n",
       "      <th>9</th>\n",
       "      <th>...</th>\n",
       "      <th>32</th>\n",
       "      <th>33</th>\n",
       "      <th>34</th>\n",
       "      <th>35</th>\n",
       "      <th>36</th>\n",
       "      <th>37</th>\n",
       "      <th>38</th>\n",
       "      <th>39</th>\n",
       "      <th>40</th>\n",
       "      <th>41</th>\n",
       "    </tr>\n",
       "  </thead>\n",
       "  <tbody>\n",
       "    <tr>\n",
       "      <th>0</th>\n",
       "      <td>1.0</td>\n",
       "      <td>0.008573</td>\n",
       "      <td>0.001448</td>\n",
       "      <td>0.020608</td>\n",
       "      <td>0.000712</td>\n",
       "      <td>0.000211</td>\n",
       "      <td>0.003492</td>\n",
       "      <td>0.000011</td>\n",
       "      <td>0.038524</td>\n",
       "      <td>0.996124</td>\n",
       "      <td>...</td>\n",
       "      <td>0.739274</td>\n",
       "      <td>0.802901</td>\n",
       "      <td>0.770674</td>\n",
       "      <td>0.137836</td>\n",
       "      <td>0.319887</td>\n",
       "      <td>0.735977</td>\n",
       "      <td>0.002257</td>\n",
       "      <td>0.337466</td>\n",
       "      <td>0.713451</td>\n",
       "      <td>0.003571</td>\n",
       "    </tr>\n",
       "    <tr>\n",
       "      <th>1</th>\n",
       "      <td>1.0</td>\n",
       "      <td>0.050528</td>\n",
       "      <td>0.005813</td>\n",
       "      <td>0.031801</td>\n",
       "      <td>0.001011</td>\n",
       "      <td>0.000267</td>\n",
       "      <td>0.003291</td>\n",
       "      <td>0.000014</td>\n",
       "      <td>0.131308</td>\n",
       "      <td>0.995097</td>\n",
       "      <td>...</td>\n",
       "      <td>0.736435</td>\n",
       "      <td>0.803485</td>\n",
       "      <td>0.770840</td>\n",
       "      <td>0.137750</td>\n",
       "      <td>0.325841</td>\n",
       "      <td>0.734043</td>\n",
       "      <td>0.004402</td>\n",
       "      <td>0.343309</td>\n",
       "      <td>0.711688</td>\n",
       "      <td>0.005580</td>\n",
       "    </tr>\n",
       "    <tr>\n",
       "      <th>2</th>\n",
       "      <td>0.0</td>\n",
       "      <td>0.001335</td>\n",
       "      <td>0.012658</td>\n",
       "      <td>0.016627</td>\n",
       "      <td>0.009347</td>\n",
       "      <td>0.003866</td>\n",
       "      <td>0.000240</td>\n",
       "      <td>0.000167</td>\n",
       "      <td>0.009619</td>\n",
       "      <td>0.738798</td>\n",
       "      <td>...</td>\n",
       "      <td>0.737825</td>\n",
       "      <td>0.801011</td>\n",
       "      <td>0.771295</td>\n",
       "      <td>0.137686</td>\n",
       "      <td>0.316329</td>\n",
       "      <td>0.735464</td>\n",
       "      <td>0.003262</td>\n",
       "      <td>0.332664</td>\n",
       "      <td>0.711494</td>\n",
       "      <td>0.003080</td>\n",
       "    </tr>\n",
       "    <tr>\n",
       "      <th>3</th>\n",
       "      <td>1.0</td>\n",
       "      <td>0.002072</td>\n",
       "      <td>0.006954</td>\n",
       "      <td>0.011196</td>\n",
       "      <td>0.000697</td>\n",
       "      <td>0.000228</td>\n",
       "      <td>0.002162</td>\n",
       "      <td>0.000013</td>\n",
       "      <td>0.014897</td>\n",
       "      <td>0.947668</td>\n",
       "      <td>...</td>\n",
       "      <td>0.738095</td>\n",
       "      <td>0.801471</td>\n",
       "      <td>0.770728</td>\n",
       "      <td>0.137919</td>\n",
       "      <td>0.320482</td>\n",
       "      <td>0.733172</td>\n",
       "      <td>0.001129</td>\n",
       "      <td>0.337324</td>\n",
       "      <td>0.710761</td>\n",
       "      <td>0.000781</td>\n",
       "    </tr>\n",
       "    <tr>\n",
       "      <th>4</th>\n",
       "      <td>0.0</td>\n",
       "      <td>0.006588</td>\n",
       "      <td>0.011597</td>\n",
       "      <td>0.035521</td>\n",
       "      <td>0.000269</td>\n",
       "      <td>0.001823</td>\n",
       "      <td>0.000005</td>\n",
       "      <td>0.000195</td>\n",
       "      <td>0.036896</td>\n",
       "      <td>0.668453</td>\n",
       "      <td>...</td>\n",
       "      <td>0.702100</td>\n",
       "      <td>0.849537</td>\n",
       "      <td>0.771297</td>\n",
       "      <td>0.136974</td>\n",
       "      <td>0.252962</td>\n",
       "      <td>0.808607</td>\n",
       "      <td>0.100790</td>\n",
       "      <td>0.271669</td>\n",
       "      <td>0.782124</td>\n",
       "      <td>0.099866</td>\n",
       "    </tr>\n",
       "  </tbody>\n",
       "</table>\n",
       "<p>5 rows × 42 columns</p>\n",
       "</div>"
      ],
      "text/plain": [
       "    0         1         2         3         4         5         6         7   \\\n",
       "0  1.0  0.008573  0.001448  0.020608  0.000712  0.000211  0.003492  0.000011   \n",
       "1  1.0  0.050528  0.005813  0.031801  0.001011  0.000267  0.003291  0.000014   \n",
       "2  0.0  0.001335  0.012658  0.016627  0.009347  0.003866  0.000240  0.000167   \n",
       "3  1.0  0.002072  0.006954  0.011196  0.000697  0.000228  0.002162  0.000013   \n",
       "4  0.0  0.006588  0.011597  0.035521  0.000269  0.001823  0.000005  0.000195   \n",
       "\n",
       "         8         9   ...        32        33        34        35        36  \\\n",
       "0  0.038524  0.996124  ...  0.739274  0.802901  0.770674  0.137836  0.319887   \n",
       "1  0.131308  0.995097  ...  0.736435  0.803485  0.770840  0.137750  0.325841   \n",
       "2  0.009619  0.738798  ...  0.737825  0.801011  0.771295  0.137686  0.316329   \n",
       "3  0.014897  0.947668  ...  0.738095  0.801471  0.770728  0.137919  0.320482   \n",
       "4  0.036896  0.668453  ...  0.702100  0.849537  0.771297  0.136974  0.252962   \n",
       "\n",
       "         37        38        39        40        41  \n",
       "0  0.735977  0.002257  0.337466  0.713451  0.003571  \n",
       "1  0.734043  0.004402  0.343309  0.711688  0.005580  \n",
       "2  0.735464  0.003262  0.332664  0.711494  0.003080  \n",
       "3  0.733172  0.001129  0.337324  0.710761  0.000781  \n",
       "4  0.808607  0.100790  0.271669  0.782124  0.099866  \n",
       "\n",
       "[5 rows x 42 columns]"
      ]
     },
     "execution_count": 7,
     "metadata": {},
     "output_type": "execute_result"
    }
   ],
   "source": [
    "scaled_data.head()"
   ]
  },
  {
   "cell_type": "markdown",
   "metadata": {},
   "source": [
    "- Separando `Features` de `Target Output`"
   ]
  },
  {
   "cell_type": "code",
   "execution_count": 8,
   "metadata": {},
   "outputs": [],
   "source": [
    "features = scaled_data.iloc[:, 1:]"
   ]
  },
  {
   "cell_type": "code",
   "execution_count": 9,
   "metadata": {
    "scrolled": true
   },
   "outputs": [
    {
     "data": {
      "text/html": [
       "<div>\n",
       "<style scoped>\n",
       "    .dataframe tbody tr th:only-of-type {\n",
       "        vertical-align: middle;\n",
       "    }\n",
       "\n",
       "    .dataframe tbody tr th {\n",
       "        vertical-align: top;\n",
       "    }\n",
       "\n",
       "    .dataframe thead th {\n",
       "        text-align: right;\n",
       "    }\n",
       "</style>\n",
       "<table border=\"1\" class=\"dataframe\">\n",
       "  <thead>\n",
       "    <tr style=\"text-align: right;\">\n",
       "      <th></th>\n",
       "      <th>1</th>\n",
       "      <th>2</th>\n",
       "      <th>3</th>\n",
       "      <th>4</th>\n",
       "      <th>5</th>\n",
       "      <th>6</th>\n",
       "      <th>7</th>\n",
       "      <th>8</th>\n",
       "      <th>9</th>\n",
       "      <th>10</th>\n",
       "      <th>...</th>\n",
       "      <th>32</th>\n",
       "      <th>33</th>\n",
       "      <th>34</th>\n",
       "      <th>35</th>\n",
       "      <th>36</th>\n",
       "      <th>37</th>\n",
       "      <th>38</th>\n",
       "      <th>39</th>\n",
       "      <th>40</th>\n",
       "      <th>41</th>\n",
       "    </tr>\n",
       "  </thead>\n",
       "  <tbody>\n",
       "    <tr>\n",
       "      <th>0</th>\n",
       "      <td>0.008573</td>\n",
       "      <td>0.001448</td>\n",
       "      <td>0.020608</td>\n",
       "      <td>0.000712</td>\n",
       "      <td>0.000211</td>\n",
       "      <td>0.003492</td>\n",
       "      <td>0.000011</td>\n",
       "      <td>0.038524</td>\n",
       "      <td>0.996124</td>\n",
       "      <td>0.072275</td>\n",
       "      <td>...</td>\n",
       "      <td>0.739274</td>\n",
       "      <td>0.802901</td>\n",
       "      <td>0.770674</td>\n",
       "      <td>0.137836</td>\n",
       "      <td>0.319887</td>\n",
       "      <td>0.735977</td>\n",
       "      <td>0.002257</td>\n",
       "      <td>0.337466</td>\n",
       "      <td>0.713451</td>\n",
       "      <td>0.003571</td>\n",
       "    </tr>\n",
       "    <tr>\n",
       "      <th>1</th>\n",
       "      <td>0.050528</td>\n",
       "      <td>0.005813</td>\n",
       "      <td>0.031801</td>\n",
       "      <td>0.001011</td>\n",
       "      <td>0.000267</td>\n",
       "      <td>0.003291</td>\n",
       "      <td>0.000014</td>\n",
       "      <td>0.131308</td>\n",
       "      <td>0.995097</td>\n",
       "      <td>0.036189</td>\n",
       "      <td>...</td>\n",
       "      <td>0.736435</td>\n",
       "      <td>0.803485</td>\n",
       "      <td>0.770840</td>\n",
       "      <td>0.137750</td>\n",
       "      <td>0.325841</td>\n",
       "      <td>0.734043</td>\n",
       "      <td>0.004402</td>\n",
       "      <td>0.343309</td>\n",
       "      <td>0.711688</td>\n",
       "      <td>0.005580</td>\n",
       "    </tr>\n",
       "    <tr>\n",
       "      <th>2</th>\n",
       "      <td>0.001335</td>\n",
       "      <td>0.012658</td>\n",
       "      <td>0.016627</td>\n",
       "      <td>0.009347</td>\n",
       "      <td>0.003866</td>\n",
       "      <td>0.000240</td>\n",
       "      <td>0.000167</td>\n",
       "      <td>0.009619</td>\n",
       "      <td>0.738798</td>\n",
       "      <td>0.134344</td>\n",
       "      <td>...</td>\n",
       "      <td>0.737825</td>\n",
       "      <td>0.801011</td>\n",
       "      <td>0.771295</td>\n",
       "      <td>0.137686</td>\n",
       "      <td>0.316329</td>\n",
       "      <td>0.735464</td>\n",
       "      <td>0.003262</td>\n",
       "      <td>0.332664</td>\n",
       "      <td>0.711494</td>\n",
       "      <td>0.003080</td>\n",
       "    </tr>\n",
       "    <tr>\n",
       "      <th>3</th>\n",
       "      <td>0.002072</td>\n",
       "      <td>0.006954</td>\n",
       "      <td>0.011196</td>\n",
       "      <td>0.000697</td>\n",
       "      <td>0.000228</td>\n",
       "      <td>0.002162</td>\n",
       "      <td>0.000013</td>\n",
       "      <td>0.014897</td>\n",
       "      <td>0.947668</td>\n",
       "      <td>0.135478</td>\n",
       "      <td>...</td>\n",
       "      <td>0.738095</td>\n",
       "      <td>0.801471</td>\n",
       "      <td>0.770728</td>\n",
       "      <td>0.137919</td>\n",
       "      <td>0.320482</td>\n",
       "      <td>0.733172</td>\n",
       "      <td>0.001129</td>\n",
       "      <td>0.337324</td>\n",
       "      <td>0.710761</td>\n",
       "      <td>0.000781</td>\n",
       "    </tr>\n",
       "    <tr>\n",
       "      <th>4</th>\n",
       "      <td>0.006588</td>\n",
       "      <td>0.011597</td>\n",
       "      <td>0.035521</td>\n",
       "      <td>0.000269</td>\n",
       "      <td>0.001823</td>\n",
       "      <td>0.000005</td>\n",
       "      <td>0.000195</td>\n",
       "      <td>0.036896</td>\n",
       "      <td>0.668453</td>\n",
       "      <td>0.128879</td>\n",
       "      <td>...</td>\n",
       "      <td>0.702100</td>\n",
       "      <td>0.849537</td>\n",
       "      <td>0.771297</td>\n",
       "      <td>0.136974</td>\n",
       "      <td>0.252962</td>\n",
       "      <td>0.808607</td>\n",
       "      <td>0.100790</td>\n",
       "      <td>0.271669</td>\n",
       "      <td>0.782124</td>\n",
       "      <td>0.099866</td>\n",
       "    </tr>\n",
       "  </tbody>\n",
       "</table>\n",
       "<p>5 rows × 41 columns</p>\n",
       "</div>"
      ],
      "text/plain": [
       "         1         2         3         4         5         6         7   \\\n",
       "0  0.008573  0.001448  0.020608  0.000712  0.000211  0.003492  0.000011   \n",
       "1  0.050528  0.005813  0.031801  0.001011  0.000267  0.003291  0.000014   \n",
       "2  0.001335  0.012658  0.016627  0.009347  0.003866  0.000240  0.000167   \n",
       "3  0.002072  0.006954  0.011196  0.000697  0.000228  0.002162  0.000013   \n",
       "4  0.006588  0.011597  0.035521  0.000269  0.001823  0.000005  0.000195   \n",
       "\n",
       "         8         9         10  ...        32        33        34        35  \\\n",
       "0  0.038524  0.996124  0.072275  ...  0.739274  0.802901  0.770674  0.137836   \n",
       "1  0.131308  0.995097  0.036189  ...  0.736435  0.803485  0.770840  0.137750   \n",
       "2  0.009619  0.738798  0.134344  ...  0.737825  0.801011  0.771295  0.137686   \n",
       "3  0.014897  0.947668  0.135478  ...  0.738095  0.801471  0.770728  0.137919   \n",
       "4  0.036896  0.668453  0.128879  ...  0.702100  0.849537  0.771297  0.136974   \n",
       "\n",
       "         36        37        38        39        40        41  \n",
       "0  0.319887  0.735977  0.002257  0.337466  0.713451  0.003571  \n",
       "1  0.325841  0.734043  0.004402  0.343309  0.711688  0.005580  \n",
       "2  0.316329  0.735464  0.003262  0.332664  0.711494  0.003080  \n",
       "3  0.320482  0.733172  0.001129  0.337324  0.710761  0.000781  \n",
       "4  0.252962  0.808607  0.100790  0.271669  0.782124  0.099866  \n",
       "\n",
       "[5 rows x 41 columns]"
      ]
     },
     "execution_count": 9,
     "metadata": {},
     "output_type": "execute_result"
    }
   ],
   "source": [
    "features.head()"
   ]
  },
  {
   "cell_type": "code",
   "execution_count": 10,
   "metadata": {
    "scrolled": true
   },
   "outputs": [],
   "source": [
    "output = scaled_data.iloc[:, 0]"
   ]
  },
  {
   "cell_type": "code",
   "execution_count": 11,
   "metadata": {},
   "outputs": [
    {
     "data": {
      "text/plain": [
       "array([1., 1., 0., 1., 0.])"
      ]
     },
     "execution_count": 11,
     "metadata": {},
     "output_type": "execute_result"
    }
   ],
   "source": [
    "output.head().values"
   ]
  },
  {
   "cell_type": "code",
   "execution_count": 12,
   "metadata": {},
   "outputs": [
    {
     "data": {
      "text/plain": [
       "array([1., 1., 0., ..., 0., 0., 0.])"
      ]
     },
     "execution_count": 12,
     "metadata": {},
     "output_type": "execute_result"
    }
   ],
   "source": [
    "output.values"
   ]
  },
  {
   "cell_type": "markdown",
   "metadata": {},
   "source": [
    "### 1.3 Estabelecendo conjuntos treino e teste"
   ]
  },
  {
   "cell_type": "markdown",
   "metadata": {},
   "source": [
    "- Dividimos \"feature\" e \"output\" em treino (80%) e teste (20%), de forma aleatória usando `train_test_split`"
   ]
  },
  {
   "cell_type": "code",
   "execution_count": 13,
   "metadata": {},
   "outputs": [],
   "source": [
    "X = features.values\n",
    "y = output.values\n",
    "X_train, X_test, y_train, y_test = train_test_split(X, y, test_size=0.2, random_state=0)"
   ]
  },
  {
   "cell_type": "code",
   "execution_count": 14,
   "metadata": {},
   "outputs": [
    {
     "data": {
      "text/plain": [
       "array([1., 1., 0., ..., 0., 0., 0.])"
      ]
     },
     "execution_count": 14,
     "metadata": {},
     "output_type": "execute_result"
    }
   ],
   "source": [
    "output.values"
   ]
  },
  {
   "cell_type": "code",
   "execution_count": 15,
   "metadata": {
    "scrolled": true
   },
   "outputs": [
    {
     "name": "stdout",
     "output_type": "stream",
     "text": [
      "4161\n",
      "1041\n"
     ]
    }
   ],
   "source": [
    "print(len(X_train))\n",
    "print(len(X_test))"
   ]
  },
  {
   "cell_type": "markdown",
   "metadata": {},
   "source": [
    "## 2 Algoritmos"
   ]
  },
  {
   "cell_type": "markdown",
   "metadata": {},
   "source": [
    "Os métodos serão avaliados usando validação cruzada 5-fold (accuracy score), seguida da acurácia na previsão para o conjunto de teste.\n",
    "<p>Para fazer tuning de parâmetros, utilizaremos o gridSearch, que verifica os resultados da validação cruzada para uma lista de parâmetros fornecida. Dessa forma será mais fácil recuperar a melhor configuração no nosso tuning.<p/>\n"
   ]
  },
  {
   "cell_type": "markdown",
   "metadata": {},
   "source": [
    "### 2.1 Naive Bayes"
   ]
  },
  {
   "cell_type": "markdown",
   "metadata": {},
   "source": [
    "Experimento baseline."
   ]
  },
  {
   "cell_type": "markdown",
   "metadata": {},
   "source": [
    "- Aplicando 5-fold CV no treino"
   ]
  },
  {
   "cell_type": "code",
   "execution_count": null,
   "metadata": {
    "id": "R_8NtQwqPQSA",
    "scrolled": false
   },
   "outputs": [],
   "source": [
    "from sklearn.naive_bayes import GaussianNB\n",
    "clf_NB = GaussianNB()"
   ]
  },
  {
   "cell_type": "code",
   "execution_count": null,
   "metadata": {},
   "outputs": [],
   "source": [
    "cv_scores = cross_val_score(clf_NB, X_train, y_train, cv=5)"
   ]
  },
  {
   "cell_type": "code",
   "execution_count": null,
   "metadata": {},
   "outputs": [],
   "source": [
    "print(\"5-fold CV mean score: %0.4f (+/- %0.4f)\" % (cv_scores.mean(), cv_scores.std() * 2))"
   ]
  },
  {
   "cell_type": "markdown",
   "metadata": {},
   "source": [
    "- Previsão sobre o conjunto de teste"
   ]
  },
  {
   "cell_type": "code",
   "execution_count": null,
   "metadata": {},
   "outputs": [],
   "source": [
    "clf_NB = clf_NB.fit(X_train,y_train)\n",
    "y_pred_NB = clf_NB.predict(X_test)"
   ]
  },
  {
   "cell_type": "code",
   "execution_count": null,
   "metadata": {
    "scrolled": true
   },
   "outputs": [],
   "source": [
    "print(\"Accuracy:\",metrics.accuracy_score(y_test, y_pred_NB))"
   ]
  },
  {
   "cell_type": "markdown",
   "metadata": {},
   "source": [
    "- Obtivemos um resultado no teste levemente mais baixo que na validação. O método ainda generaliza bem."
   ]
  },
  {
   "cell_type": "markdown",
   "metadata": {},
   "source": [
    "### 2.2 Decision Tree"
   ]
  },
  {
   "cell_type": "markdown",
   "metadata": {},
   "source": [
    "Tuning do parâmetro `max_depth` (altura máxima da árvore)"
   ]
  },
  {
   "cell_type": "code",
   "execution_count": null,
   "metadata": {},
   "outputs": [],
   "source": [
    "from sklearn.tree import DecisionTreeClassifier"
   ]
  },
  {
   "cell_type": "code",
   "execution_count": null,
   "metadata": {},
   "outputs": [],
   "source": [
    "clf_DT = DecisionTreeClassifier()"
   ]
  },
  {
   "cell_type": "code",
   "execution_count": null,
   "metadata": {},
   "outputs": [],
   "source": [
    "k_range = list(range(1, 31))"
   ]
  },
  {
   "cell_type": "code",
   "execution_count": null,
   "metadata": {},
   "outputs": [],
   "source": [
    "param_grid = dict(max_depth=k_range)"
   ]
  },
  {
   "cell_type": "code",
   "execution_count": null,
   "metadata": {
    "scrolled": false
   },
   "outputs": [],
   "source": [
    "grid = GridSearchCV(clf_DT, param_grid, cv=5, scoring='accuracy', return_train_score=False)\n",
    "grid.fit(X, y)"
   ]
  },
  {
   "cell_type": "code",
   "execution_count": null,
   "metadata": {},
   "outputs": [],
   "source": [
    "dtf = pd.DataFrame(grid.cv_results_)[['mean_test_score', 'std_test_score', 'params']]"
   ]
  },
  {
   "cell_type": "code",
   "execution_count": null,
   "metadata": {
    "scrolled": true
   },
   "outputs": [],
   "source": [
    "grid_mean_scores = grid.cv_results_['mean_test_score']\n",
    "plt.plot(k_range, grid_mean_scores)\n",
    "plt.xlabel('Value of depth for Decision Tree')\n",
    "plt.ylabel('5-Fold Cross-Validated Accuracy')"
   ]
  },
  {
   "cell_type": "code",
   "execution_count": null,
   "metadata": {},
   "outputs": [],
   "source": [
    "print(grid.best_score_)\n",
    "print(grid.best_params_)"
   ]
  },
  {
   "cell_type": "markdown",
   "metadata": {},
   "source": [
    "- Verificando 5-fold CV para comprimento ilimitado"
   ]
  },
  {
   "cell_type": "code",
   "execution_count": null,
   "metadata": {},
   "outputs": [],
   "source": [
    "clf_DT = DecisionTreeClassifier(max_depth=None)\n",
    "cv_scores = cross_val_score(clf_DT, X_train, y_train, cv=5)\n",
    "print(\"5-fold CV mean score: %0.6f \" % (cv_scores.mean()))"
   ]
  },
  {
   "cell_type": "markdown",
   "metadata": {},
   "source": [
    "- Escolheremos a configuração com melhor resultado na validação cruzada para fazer o teste"
   ]
  },
  {
   "cell_type": "code",
   "execution_count": null,
   "metadata": {},
   "outputs": [],
   "source": [
    "if(cv_scores.mean() < grid.best_score_):\n",
    "    clf_DT = DecisionTreeClassifier(max_depth=None)\n",
    "    \n",
    "clf_DT = clf_DT.fit(X_train,y_train)\n",
    "y_pred_DT = clf_DT.predict(X_test)"
   ]
  },
  {
   "cell_type": "markdown",
   "metadata": {},
   "source": [
    "- Plot da árvore produzida"
   ]
  },
  {
   "cell_type": "code",
   "execution_count": null,
   "metadata": {
    "scrolled": true
   },
   "outputs": [],
   "source": [
    "from sklearn import tree\n",
    "tree.plot_tree(clf_DT)\n",
    "plt.show()"
   ]
  },
  {
   "cell_type": "code",
   "execution_count": null,
   "metadata": {},
   "outputs": [],
   "source": [
    "print(\"Accuracy:\",metrics.accuracy_score(y_test, y_pred_DT))"
   ]
  },
  {
   "cell_type": "markdown",
   "metadata": {},
   "source": [
    "- O valor de accuracy ficou bastante satisfatório e próximo do valor da validação. O classificador foi capaz de generalizar bem."
   ]
  },
  {
   "cell_type": "markdown",
   "metadata": {},
   "source": [
    "### 2.3 SVM"
   ]
  },
  {
   "cell_type": "code",
   "execution_count": 17,
   "metadata": {},
   "outputs": [],
   "source": [
    "from sklearn import svm"
   ]
  },
  {
   "cell_type": "markdown",
   "metadata": {},
   "source": [
    "#### 2.3.1 Linear"
   ]
  },
  {
   "cell_type": "markdown",
   "metadata": {},
   "source": [
    "Experimento simples com kernel Linear, não variando parâmetros."
   ]
  },
  {
   "cell_type": "code",
   "execution_count": 18,
   "metadata": {},
   "outputs": [],
   "source": [
    "clf_SVM_LIN = svm.SVC(kernel='linear', probability=True)"
   ]
  },
  {
   "cell_type": "code",
   "execution_count": 19,
   "metadata": {},
   "outputs": [],
   "source": [
    "cv_scores = cross_val_score(clf_SVM_LIN, X, y, cv=5)"
   ]
  },
  {
   "cell_type": "code",
   "execution_count": 20,
   "metadata": {},
   "outputs": [
    {
     "name": "stdout",
     "output_type": "stream",
     "text": [
      "5-fold CV mean score: 0.9106 (+/- 0.0519)\n"
     ]
    }
   ],
   "source": [
    "print(\"5-fold CV mean score: %0.4f (+/- %0.4f)\" % (cv_scores.mean(), cv_scores.std() * 2))"
   ]
  },
  {
   "cell_type": "code",
   "execution_count": 21,
   "metadata": {
    "scrolled": true
   },
   "outputs": [],
   "source": [
    "clf_SVM_LIN.fit(X_train,y_train)\n",
    "y_pred_SVM_LIN = clf_SVM_LIN.predict(X_test)"
   ]
  },
  {
   "cell_type": "code",
   "execution_count": 22,
   "metadata": {
    "scrolled": true
   },
   "outputs": [
    {
     "name": "stdout",
     "output_type": "stream",
     "text": [
      "Accuracy: 0.9087415946205571\n"
     ]
    }
   ],
   "source": [
    "print(\"Accuracy:\",metrics.accuracy_score(y_test, y_pred_SVM_LIN))"
   ]
  },
  {
   "cell_type": "markdown",
   "metadata": {},
   "source": [
    "- O valor de accuracy ficou bastante satisfatório e próximo do valor da validação. O classificador foi capaz de generalizar bem."
   ]
  },
  {
   "cell_type": "markdown",
   "metadata": {},
   "source": [
    "#### 2.3.2 Sigmoid"
   ]
  },
  {
   "cell_type": "markdown",
   "metadata": {},
   "source": [
    "Para kernel sigmoid, usaremos o parâmetro `gamma` (para hiperplanos, definindo a exatidão na aproximação)"
   ]
  },
  {
   "cell_type": "code",
   "execution_count": null,
   "metadata": {
    "scrolled": true
   },
   "outputs": [],
   "source": [
    "clf_SVM_SIG = svm.SVC(kernel='sigmoid', gamma=0.1, probability=True)"
   ]
  },
  {
   "cell_type": "code",
   "execution_count": null,
   "metadata": {},
   "outputs": [],
   "source": [
    "clf_SVM_SIG.fit(X_train,y_train)"
   ]
  },
  {
   "cell_type": "code",
   "execution_count": null,
   "metadata": {},
   "outputs": [],
   "source": [
    "cv_scores = cross_val_score(clf_SVM_SIG, X, y, cv=5)"
   ]
  },
  {
   "cell_type": "code",
   "execution_count": null,
   "metadata": {},
   "outputs": [],
   "source": [
    "print(\"5-fold CV mean score: %0.4f (+/- %0.4f)\" % (cv_scores.mean(), cv_scores.std() * 2))"
   ]
  },
  {
   "cell_type": "code",
   "execution_count": null,
   "metadata": {},
   "outputs": [],
   "source": [
    "y_pred_SVM_SIG = clf_SVM_SIG.predict(X_test)"
   ]
  },
  {
   "cell_type": "code",
   "execution_count": null,
   "metadata": {},
   "outputs": [],
   "source": [
    "print(\"Accuracy:\",metrics.accuracy_score(y_test, y_pred_SVM_SIG))"
   ]
  },
  {
   "cell_type": "markdown",
   "metadata": {},
   "source": [
    "- O valor de accuracy ficou _baixo_ em relação aos demais métodos, mas ficou próximo da validação. Não há indícios de over-fitting."
   ]
  },
  {
   "cell_type": "markdown",
   "metadata": {},
   "source": [
    "#### 2.3.3 Polinomial"
   ]
  },
  {
   "cell_type": "markdown",
   "metadata": {},
   "source": [
    "Para o kernel polinomial, faremos o tuning do parâmetro `degree` (grau do polinômio)"
   ]
  },
  {
   "cell_type": "code",
   "execution_count": 23,
   "metadata": {},
   "outputs": [],
   "source": [
    "clf_SVM_POL = svm.SVC()"
   ]
  },
  {
   "cell_type": "code",
   "execution_count": 24,
   "metadata": {
    "scrolled": true
   },
   "outputs": [],
   "source": [
    "d_range = list(range(2, 17))"
   ]
  },
  {
   "cell_type": "code",
   "execution_count": 25,
   "metadata": {
    "scrolled": true
   },
   "outputs": [],
   "source": [
    "param_grid = dict(degree=d_range, kernel=['poly'])"
   ]
  },
  {
   "cell_type": "code",
   "execution_count": 26,
   "metadata": {
    "scrolled": false
   },
   "outputs": [
    {
     "data": {
      "text/plain": [
       "GridSearchCV(cv=5, estimator=SVC(), n_jobs=-1,\n",
       "             param_grid={'degree': [2, 3, 4, 5, 6, 7, 8, 9, 10, 11, 12, 13, 14,\n",
       "                                    15, 16],\n",
       "                         'kernel': ['poly']},\n",
       "             scoring='accuracy')"
      ]
     },
     "execution_count": 26,
     "metadata": {},
     "output_type": "execute_result"
    }
   ],
   "source": [
    "grid = GridSearchCV(clf_SVM_POL, param_grid, cv=5, scoring='accuracy', return_train_score=False, n_jobs=-1)\n",
    "grid.fit(X_train, y_train)"
   ]
  },
  {
   "cell_type": "markdown",
   "metadata": {},
   "source": [
    "- Resultados do GridSearch"
   ]
  },
  {
   "cell_type": "code",
   "execution_count": 27,
   "metadata": {
    "scrolled": true
   },
   "outputs": [
    {
     "data": {
      "text/plain": [
       "Text(0, 0.5, '5-Fold Cross-Validated Accuracy')"
      ]
     },
     "execution_count": 27,
     "metadata": {},
     "output_type": "execute_result"
    },
    {
     "data": {
      "image/png": "[encoded data removed]",
      "text/plain": [
       "<Figure size 432x288 with 1 Axes>"
      ]
     },
     "metadata": {
      "needs_background": "light"
     },
     "output_type": "display_data"
    }
   ],
   "source": [
    "grid_mean_scores = grid.cv_results_['mean_test_score']\n",
    "plt.plot(d_range, grid_mean_scores)\n",
    "plt.xlabel('Value of degree param for Poly SVM')\n",
    "plt.ylabel('5-Fold Cross-Validated Accuracy')"
   ]
  },
  {
   "cell_type": "code",
   "execution_count": 28,
   "metadata": {
    "scrolled": false
   },
   "outputs": [
    {
     "name": "stdout",
     "output_type": "stream",
     "text": [
      "0.9449660633484163\n",
      "{'degree': 8, 'kernel': 'poly'}\n"
     ]
    }
   ],
   "source": [
    "print(grid.best_score_)\n",
    "print(grid.best_params_)"
   ]
  },
  {
   "cell_type": "markdown",
   "metadata": {},
   "source": [
    "- Usaremos o melhor parâmetro encontrado para previsão sobre o conjunto de teste"
   ]
  },
  {
   "cell_type": "code",
   "execution_count": 29,
   "metadata": {
    "scrolled": true
   },
   "outputs": [],
   "source": [
    "clf_SVM_POL = svm.SVC(kernel='poly', degree =grid.best_params_['degree'], probability=True)\n",
    "clf_SVM_POL.fit(X_train,y_train)\n",
    "y_pred_SVM_POL = clf_SVM_POL.predict(X_test)"
   ]
  },
  {
   "cell_type": "code",
   "execution_count": 30,
   "metadata": {
    "scrolled": true
   },
   "outputs": [
    {
     "name": "stdout",
     "output_type": "stream",
     "text": [
      "Accuracy: 0.94716618635927\n"
     ]
    }
   ],
   "source": [
    "print(\"Accuracy:\",metrics.accuracy_score(y_test, y_pred_SVM_POL))"
   ]
  },
  {
   "cell_type": "markdown",
   "metadata": {},
   "source": [
    "- O valor de accuracy ficou bastante satisfatório e próximo do valor da validação. O classificador foi capaz de generalizar bem."
   ]
  },
  {
   "cell_type": "markdown",
   "metadata": {},
   "source": [
    "#### 2.3.4 RBF"
   ]
  },
  {
   "cell_type": "markdown",
   "metadata": {},
   "source": [
    "Para o kernel RBF, faremos o tuning do parâmetro `C` (penalidade do erro)"
   ]
  },
  {
   "cell_type": "code",
   "execution_count": null,
   "metadata": {},
   "outputs": [],
   "source": [
    "clf_SVM_RBF = svm.SVC()"
   ]
  },
  {
   "cell_type": "code",
   "execution_count": null,
   "metadata": {
    "scrolled": true
   },
   "outputs": [],
   "source": [
    "c_range = list(range(0, 5))"
   ]
  },
  {
   "cell_type": "code",
   "execution_count": null,
   "metadata": {
    "scrolled": true
   },
   "outputs": [],
   "source": [
    "# param_grid = dict(degree=c_range, kernel=['rbf'])\n",
    "param_grid = {'C': [1, 10, 100, 1000, 10000]}"
   ]
  },
  {
   "cell_type": "code",
   "execution_count": null,
   "metadata": {
    "scrolled": false
   },
   "outputs": [],
   "source": [
    "grid = GridSearchCV(clf_SVM_RBF, param_grid, cv=5, scoring='accuracy', return_train_score=False, n_jobs=-1)\n",
    "grid.fit(X_train, y_train)"
   ]
  },
  {
   "cell_type": "markdown",
   "metadata": {},
   "source": [
    "- Resultados do GridSearch"
   ]
  },
  {
   "cell_type": "code",
   "execution_count": null,
   "metadata": {
    "scrolled": true
   },
   "outputs": [],
   "source": [
    "grid_mean_scores = grid.cv_results_['mean_test_score']\n",
    "plt.plot(c_range, grid_mean_scores)\n",
    "plt.xlabel('Value of x for C = 10^x for RBF SVM')\n",
    "plt.ylabel('5-Fold Cross-Validated Accuracy')"
   ]
  },
  {
   "cell_type": "code",
   "execution_count": null,
   "metadata": {
    "scrolled": false
   },
   "outputs": [],
   "source": [
    "print(grid.best_score_)\n",
    "print(grid.best_params_)"
   ]
  },
  {
   "cell_type": "markdown",
   "metadata": {},
   "source": [
    "- Usaremos o melhor parâmetro encontrado para previsão sobre o conjunto de teste"
   ]
  },
  {
   "cell_type": "code",
   "execution_count": null,
   "metadata": {
    "scrolled": true
   },
   "outputs": [],
   "source": [
    "clf_SVM_RBF = svm.SVC(kernel='rbf', C=grid.best_params_['C'], probability=True)\n",
    "clf_SVM_RBF.fit(X_train,y_train)\n",
    "y_pred_SVM_RBF = clf_SVM_RBF.predict(X_test)"
   ]
  },
  {
   "cell_type": "code",
   "execution_count": null,
   "metadata": {},
   "outputs": [],
   "source": [
    "print(\"Accuracy:\",metrics.accuracy_score(y_test, y_pred_SVM_RBF))"
   ]
  },
  {
   "cell_type": "markdown",
   "metadata": {},
   "source": [
    "- O valor de accuracy ficou bastante satisfatório e próximo do valor da validação. O classificador foi capaz de generalizar bem."
   ]
  },
  {
   "cell_type": "markdown",
   "metadata": {},
   "source": [
    "### 2.4 K-NN"
   ]
  },
  {
   "cell_type": "markdown",
   "metadata": {},
   "source": [
    "- Para o _K-Nearest Neighbors_, vamos verificar os resultados da validação cruzada 5-fold com variação no parâmetro `n_neighbors` para valores de 2 até 32."
   ]
  },
  {
   "cell_type": "code",
   "execution_count": null,
   "metadata": {},
   "outputs": [],
   "source": [
    "from sklearn.neighbors import KNeighborsClassifier"
   ]
  },
  {
   "cell_type": "code",
   "execution_count": null,
   "metadata": {},
   "outputs": [],
   "source": [
    "clf_KNN = KNeighborsClassifier()"
   ]
  },
  {
   "cell_type": "code",
   "execution_count": null,
   "metadata": {},
   "outputs": [],
   "source": [
    "k_range = list(range(2, 33))\n",
    "# print(k_range)"
   ]
  },
  {
   "cell_type": "code",
   "execution_count": null,
   "metadata": {
    "scrolled": true
   },
   "outputs": [],
   "source": [
    "param_grid = dict(n_neighbors=k_range)\n",
    "# print(param_grid)"
   ]
  },
  {
   "cell_type": "code",
   "execution_count": null,
   "metadata": {
    "scrolled": false
   },
   "outputs": [],
   "source": [
    "grid = GridSearchCV(clf_KNN, param_grid, cv=5, scoring='accuracy', return_train_score=False, n_jobs=-1)\n",
    "grid.fit(X_train, y_train)"
   ]
  },
  {
   "cell_type": "markdown",
   "metadata": {},
   "source": [
    "- Resultados do GridSearch"
   ]
  },
  {
   "cell_type": "code",
   "execution_count": null,
   "metadata": {},
   "outputs": [],
   "source": [
    "grid_mean_scores = grid.cv_results_['mean_test_score']\n",
    "plt.plot(k_range, grid_mean_scores)\n",
    "plt.xlabel('Value of K for KNN')\n",
    "plt.ylabel('5-Fold Cross-Validated Accuracy')"
   ]
  },
  {
   "cell_type": "code",
   "execution_count": null,
   "metadata": {},
   "outputs": [],
   "source": [
    "print(grid.best_score_)\n",
    "print(grid.best_params_)"
   ]
  },
  {
   "cell_type": "markdown",
   "metadata": {},
   "source": [
    "- Pelo melhor score (accuracy) obtido na validação cruzada, podemos concluir a aproximação obtida no KNN não teve uma capacidade de generalização tão boa quanto a do Naive Bayes, mesmo com a melhor configuração encontrada.\n",
    "- Um ponto interessante foi observar o comportamento do KNN pelo gráfico, podendo ver explicitamente o contraste entre valores pares e impares para K."
   ]
  },
  {
   "cell_type": "markdown",
   "metadata": {},
   "source": [
    "- Usaremos o melhor parâmetro encontrado para previsão sobre o conjunto de teste"
   ]
  },
  {
   "cell_type": "code",
   "execution_count": null,
   "metadata": {},
   "outputs": [],
   "source": [
    "clf_KNN = KNeighborsClassifier(n_neighbors=grid.best_params_['n_neighbors'])\n",
    "clf_KNN.fit(X_train,y_train)\n",
    "y_pred_KNN = clf_KNN.predict(X_test)"
   ]
  },
  {
   "cell_type": "code",
   "execution_count": null,
   "metadata": {},
   "outputs": [],
   "source": [
    "print(\"Accuracy:\",metrics.accuracy_score(y_test, y_pred_KNN))"
   ]
  },
  {
   "cell_type": "markdown",
   "metadata": {},
   "source": [
    "- Após prever no conjunto de teste, observamos uma acurácia das previsões menor que na validação cruzada, podendo ser um indício de um leve over-fitting.\n",
    "- Comparando com o Naive Bayes, vimos uma menor capacidade de generalização por parte do KNN."
   ]
  },
  {
   "cell_type": "markdown",
   "metadata": {},
   "source": [
    "### 2.5 Random Forest"
   ]
  },
  {
   "cell_type": "markdown",
   "metadata": {},
   "source": [
    "- Para o _Random Forest_, vamos verificar os resultados da validação cruzada 5-fold com variação no parâmetro `n_estimators` (Número de árvores na _floresta_) para valores de 2 até 64."
   ]
  },
  {
   "cell_type": "code",
   "execution_count": null,
   "metadata": {
    "scrolled": false
   },
   "outputs": [],
   "source": [
    "from sklearn.ensemble import RandomForestClassifier"
   ]
  },
  {
   "cell_type": "code",
   "execution_count": null,
   "metadata": {},
   "outputs": [],
   "source": [
    "clf_RDF = RandomForestClassifier()"
   ]
  },
  {
   "cell_type": "code",
   "execution_count": null,
   "metadata": {},
   "outputs": [],
   "source": [
    "r_range = list(range(2, 65))\n",
    "# print(r_range)"
   ]
  },
  {
   "cell_type": "code",
   "execution_count": null,
   "metadata": {
    "scrolled": false
   },
   "outputs": [],
   "source": [
    "param_grid = dict(n_estimators=r_range)\n",
    "# print(param_grid)"
   ]
  },
  {
   "cell_type": "code",
   "execution_count": null,
   "metadata": {
    "scrolled": true
   },
   "outputs": [],
   "source": [
    "grid = GridSearchCV(clf_RDF, param_grid, cv=5, scoring='accuracy', return_train_score=False, n_jobs=-1)\n",
    "grid.fit(X, y)"
   ]
  },
  {
   "cell_type": "markdown",
   "metadata": {},
   "source": [
    "- Resultados do GridSearch"
   ]
  },
  {
   "cell_type": "code",
   "execution_count": null,
   "metadata": {},
   "outputs": [],
   "source": [
    "grid_mean_scores = grid.cv_results_['mean_test_score']\n",
    "plt.plot(r_range, grid_mean_scores)\n",
    "plt.xlabel('Value of N for Random Forest estimators')\n",
    "plt.ylabel('Cross-Validated Accuracy')"
   ]
  },
  {
   "cell_type": "code",
   "execution_count": null,
   "metadata": {
    "scrolled": true
   },
   "outputs": [],
   "source": [
    "print(grid.best_score_)\n",
    "print(grid.best_params_)"
   ]
  },
  {
   "cell_type": "markdown",
   "metadata": {},
   "source": [
    "- Pelo melhor score (accuracy) obtido na validação cruzada, podemos concluir que obtivemos uma boa aproximação, não foram sentidos impactos de overfitting."
   ]
  },
  {
   "cell_type": "markdown",
   "metadata": {},
   "source": [
    "- Usaremos o melhor parâmetro encontrado para previsão sobre o conjunto de teste"
   ]
  },
  {
   "cell_type": "code",
   "execution_count": null,
   "metadata": {},
   "outputs": [],
   "source": [
    "clf_RDF = RandomForestClassifier(n_estimators=grid.best_params_['n_estimators'])\n",
    "clf_RDF.fit(X_train, y_train)\n",
    "y_pred_RDF = clf_RDF.predict(X_test)"
   ]
  },
  {
   "cell_type": "code",
   "execution_count": null,
   "metadata": {
    "scrolled": true
   },
   "outputs": [],
   "source": [
    "print(\"Accuracy:\",metrics.accuracy_score(y_test, y_pred_RDF))"
   ]
  },
  {
   "cell_type": "markdown",
   "metadata": {},
   "source": [
    "- Após prever no conjunto de teste, observamos uma acurácia das previsões muito próxima da validação. O método generalizou muito bem.\n",
    "- Comparando com o Naive Bayes, vimos uma maior capacidade de generalização por parte do Random Forest."
   ]
  },
  {
   "cell_type": "markdown",
   "metadata": {},
   "source": [
    "### 2.6 Gradient Tree Boosting"
   ]
  },
  {
   "cell_type": "markdown",
   "metadata": {},
   "source": [
    "- Para o _Gradient Tree Boosting_, vamos verificar os resultados da validação cruzada 5-fold com variação no parâmetro `n_estimators`, referente ao número de iterações, para valores de 256 até 512.\n",
    "- Procurando sobre o método, encontrei que se comporta de forma robusta e responde bem ao aumento do parâmetro em questão. Contudo, a execução mostrou-se muito demorada."
   ]
  },
  {
   "cell_type": "code",
   "execution_count": null,
   "metadata": {
    "scrolled": false
   },
   "outputs": [],
   "source": [
    "from sklearn.ensemble import GradientBoostingClassifier"
   ]
  },
  {
   "cell_type": "code",
   "execution_count": null,
   "metadata": {},
   "outputs": [],
   "source": [
    "clf_GTB = GradientBoostingClassifier(learning_rate=1)"
   ]
  },
  {
   "cell_type": "code",
   "execution_count": null,
   "metadata": {
    "scrolled": false
   },
   "outputs": [],
   "source": [
    "g_range = list(range(256, 513))"
   ]
  },
  {
   "cell_type": "code",
   "execution_count": null,
   "metadata": {
    "scrolled": false
   },
   "outputs": [],
   "source": [
    "param_grid = dict(n_estimators=g_range)"
   ]
  },
  {
   "cell_type": "markdown",
   "metadata": {},
   "source": [
    "- Executar a busca para obter o melhor valor para n_estimators no intervalo definido é muito custoso. Portanto, na intenção de evitar uma espera de 3 horas, informo que melhor obtido foi 372 e a parte abaixo pode ser pulada.\n",
    "- Deixarei o código da seção comentado e manterei o gráfico que obtive."
   ]
  },
  {
   "cell_type": "code",
   "execution_count": null,
   "metadata": {
    "scrolled": false
   },
   "outputs": [],
   "source": [
    "# grid = GridSearchCV(clf_GTB, param_grid, cv=5, scoring='accuracy', return_train_score=False, n_jobs=-1)\n",
    "# grid.fit(X, y)"
   ]
  },
  {
   "cell_type": "markdown",
   "metadata": {},
   "source": [
    "- Resultados do GridSearch"
   ]
  },
  {
   "cell_type": "code",
   "execution_count": null,
   "metadata": {},
   "outputs": [],
   "source": [
    "# grid_mean_scores = grid.cv_results_['mean_test_score']\n",
    "# plt.plot(g_range, grid_mean_scores)\n",
    "# plt.xlabel('Value of N for Gradient Tree Boosting estimators')\n",
    "# plt.ylabel('Cross-Validated Accuracy')"
   ]
  },
  {
   "cell_type": "code",
   "execution_count": null,
   "metadata": {
    "scrolled": true
   },
   "outputs": [],
   "source": [
    "# print(grid.best_score_)\n",
    "# print(grid.best_params_)"
   ]
  },
  {
   "cell_type": "markdown",
   "metadata": {},
   "source": [
    "- Pelo melhor score (accuracy) obtido na validação cruzada, podemos concluir que obtivemos uma boa aproximação, não foram sentidos impactos de overfitting."
   ]
  },
  {
   "cell_type": "markdown",
   "metadata": {},
   "source": [
    "- Usaremos o melhor parâmetro encontrado (372) para previsão sobre o conjunto de teste."
   ]
  },
  {
   "cell_type": "code",
   "execution_count": null,
   "metadata": {},
   "outputs": [],
   "source": [
    "# clf_GTB = GradientBoostingClassifier(learning_rate=1, n_estimators=grid.best_params_['n_estimators'])\n",
    "clf_GTB = GradientBoostingClassifier(learning_rate=1, n_estimators=372)"
   ]
  },
  {
   "cell_type": "code",
   "execution_count": null,
   "metadata": {},
   "outputs": [],
   "source": [
    "clf_GTB.fit(X_train, y_train)\n",
    "y_pred_GTB = clf_GTB.predict(X_test)"
   ]
  },
  {
   "cell_type": "code",
   "execution_count": null,
   "metadata": {},
   "outputs": [],
   "source": [
    "print(\"Accuracy:\",metrics.accuracy_score(y_test, y_pred_GTB))"
   ]
  },
  {
   "cell_type": "markdown",
   "metadata": {},
   "source": [
    "- Após prever no conjunto de teste, obtivemos uma acurácia bastante interessante, muito próxima à observada na validação cruzada, o que é um fato bem positivo. \n",
    "- O GTB trouxe resultados muito bons, em relação aos demais métodos. O downside foi de fato a parte de tuning do número de iterações, que mostrou-se bem custosa em tempo."
   ]
  },
  {
   "cell_type": "markdown",
   "metadata": {},
   "source": [
    "## 3 Comparação de resultados"
   ]
  },
  {
   "cell_type": "markdown",
   "metadata": {},
   "source": [
    "- Compararemos abaixo os métodos de classificação estudados anteriormente, utilizando as métricas de precisão e recall, além da curva ROC."
   ]
  },
  {
   "cell_type": "code",
   "execution_count": null,
   "metadata": {},
   "outputs": [],
   "source": [
    "models = [\n",
    "{\n",
    "    'label': 'Gaussian Naive Bayes',\n",
    "    'model': clf_NB,\n",
    "    'precision': metrics.precision_score(y_test, y_pred_NB),\n",
    "    'recall': metrics.recall_score(y_test, y_pred_NB)\n",
    "},\n",
    "{\n",
    "    'label': 'Decision Tree',\n",
    "    'model': clf_DT,\n",
    "    'precision': metrics.precision_score(y_test, y_pred_DT),\n",
    "    'recall': metrics.recall_score(y_test, y_pred_DT)\n",
    "},\n",
    "{\n",
    "    'label': 'SVM Linear',\n",
    "    'model': clf_SVM_LIN,\n",
    "    'precision': metrics.precision_score(y_test, y_pred_SVM_LIN),\n",
    "    'recall': metrics.recall_score(y_test, y_pred_SVM_LIN)\n",
    "},\n",
    "{\n",
    "    'label': 'SVM Sigmoid',\n",
    "    'model': clf_SVM_SIG,\n",
    "    'precision': metrics.precision_score(y_test, y_pred_SVM_SIG),\n",
    "    'recall': metrics.recall_score(y_test, y_pred_SVM_SIG)\n",
    "},\n",
    "{\n",
    "    'label': 'SVM Poly',\n",
    "    'model': clf_SVM_POL,\n",
    "    'precision': metrics.precision_score(y_test, y_pred_SVM_POL),\n",
    "    'recall': metrics.recall_score(y_test, y_pred_SVM_POL)\n",
    "},    \n",
    "{\n",
    "    'label': 'SVM RBF',\n",
    "    'model': clf_SVM_RBF,\n",
    "    'precision': metrics.precision_score(y_test, y_pred_SVM_RBF),\n",
    "    'recall': metrics.recall_score(y_test, y_pred_SVM_RBF)\n",
    "},\n",
    "{\n",
    "    'label': 'K Nearest Neighbors',\n",
    "    'model': clf_KNN,\n",
    "    'precision': metrics.precision_score(y_test, y_pred_KNN),\n",
    "    'recall': metrics.recall_score(y_test, y_pred_KNN)\n",
    "},\n",
    "{\n",
    "    'label': 'Random Forest',\n",
    "    'model': clf_RDF,\n",
    "    'precision': metrics.precision_score(y_test, y_pred_RDF),\n",
    "    'recall': metrics.recall_score(y_test, y_pred_RDF)\n",
    "},\n",
    "{\n",
    "    'label': 'Gradient Boosting',\n",
    "    'model': clf_GTB,\n",
    "    'precision': metrics.precision_score(y_test, y_pred_GTB),\n",
    "    'recall': metrics.recall_score(y_test, y_pred_GTB)\n",
    "}\n",
    "]"
   ]
  },
  {
   "cell_type": "code",
   "execution_count": null,
   "metadata": {
    "scrolled": true
   },
   "outputs": [],
   "source": [
    "models"
   ]
  },
  {
   "cell_type": "markdown",
   "metadata": {},
   "source": [
    "### 3.1 Curva ROC"
   ]
  },
  {
   "cell_type": "markdown",
   "metadata": {},
   "source": [
    "Calculando e apresentando as curvas ROC para cada método."
   ]
  },
  {
   "cell_type": "code",
   "execution_count": null,
   "metadata": {},
   "outputs": [],
   "source": [
    "for m in models:\n",
    "    model = m['model'] # select the model\n",
    "    model.fit(X_train, y_train) # train the model\n",
    "    y_pred=model.predict(X_test) # predict the test data\n",
    "# Compute False postive rate, and True positive rate\n",
    "    fpr, tpr, thresholds = metrics.roc_curve(y_test, model.predict_proba(X_test)[:,1])\n",
    "# Calculate Area under the curve to display on the plot\n",
    "    auc = metrics.roc_auc_score(y_test,model.predict(X_test))\n",
    "# Now, plot the computed values\n",
    "    plt.plot(fpr, tpr, label='%s ROC (area = %0.2f)' % (m['label'], auc))\n",
    "# Custom settings for the plot \n",
    "plt.plot([0, 1], [0, 1],'r--')\n",
    "plt.xlim([0.0, 1.0])\n",
    "plt.ylim([0.0, 1.05])\n",
    "plt.xlabel('1-Specificity(False Positive Rate)')\n",
    "plt.ylabel('Sensitivity(True Positive Rate)')\n",
    "plt.title('Receiver Operating Characteristic')\n",
    "plt.legend(loc=\"lower right\")\n",
    "plt.show() "
   ]
  },
  {
   "cell_type": "markdown",
   "metadata": {},
   "source": [
    "### 3.2 Precision & Recall"
   ]
  },
  {
   "cell_type": "markdown",
   "metadata": {},
   "source": [
    "Apresentando uma tabela com precision e recall para cada um dos métodos, por ordem descendente de precisão."
   ]
  },
  {
   "cell_type": "code",
   "execution_count": null,
   "metadata": {
    "scrolled": true
   },
   "outputs": [],
   "source": [
    "df = pd.DataFrame(models)[['label', 'precision', 'recall']]\n",
    "df.sort_values(['precision'], ascending=[0])"
   ]
  }
 ],
 "metadata": {
  "colab": {
   "name": "TP1 ML",
   "provenance": []
  },
  "kernelspec": {
   "display_name": "Python 3",
   "language": "python",
   "name": "python3"
  },
  "language_info": {
   "codemirror_mode": {
    "name": "ipython",
    "version": 3
   },
   "file_extension": ".py",
   "mimetype": "text/x-python",
   "name": "python",
   "nbconvert_exporter": "python",
   "pygments_lexer": "ipython3",
   "version": "3.8.3"
  }
 },
 "nbformat": 4,
 "nbformat_minor": 1
}