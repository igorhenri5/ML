{
 "cells": [
  {
   "cell_type": "markdown",
   "metadata": {
    "id": "_lAlowAPy4C0"
   },
   "source": [
    "# Implementação do Algoritmo de Boosting (Stump Tree Boosting)"
   ]
  },
  {
   "cell_type": "markdown",
   "metadata": {},
   "source": [
    "## 1 Setup"
   ]
  },
  {
   "cell_type": "markdown",
   "metadata": {},
   "source": [
    "### 1.1 Carregando o dataset"
   ]
  },
  {
   "cell_type": "code",
   "execution_count": 1,
   "metadata": {
    "colab": {
     "base_uri": "https://localhost:8080/",
     "height": 281
    },
    "id": "c8fJYPYdy2fU",
    "outputId": "95c07641-521f-47f6-db5c-a4e269104a98"
   },
   "outputs": [],
   "source": [
    "import numpy as np\n",
    "import pandas as pd\n",
    "from matplotlib import pyplot as plt\n",
    "from sklearn import metrics\n",
    "from sklearn.model_selection import train_test_split"
   ]
  },
  {
   "cell_type": "code",
   "execution_count": 2,
   "metadata": {},
   "outputs": [],
   "source": [
    "columns=['Q1','Q2','Q3','Q4','Q5','Q6','Q7','Q8','Q9', 'XResult']"
   ]
  },
  {
   "cell_type": "code",
   "execution_count": 3,
   "metadata": {
    "id": "z_rGef7qMDYU",
    "scrolled": false
   },
   "outputs": [],
   "source": [
    "data = pd.read_csv('tic-tac-toe.data', names=columns, header=None)"
   ]
  },
  {
   "cell_type": "code",
   "execution_count": 4,
   "metadata": {},
   "outputs": [
    {
     "data": {
      "text/html": [
       "<div>\n",
       "<style scoped>\n",
       "    .dataframe tbody tr th:only-of-type {\n",
       "        vertical-align: middle;\n",
       "    }\n",
       "\n",
       "    .dataframe tbody tr th {\n",
       "        vertical-align: top;\n",
       "    }\n",
       "\n",
       "    .dataframe thead th {\n",
       "        text-align: right;\n",
       "    }\n",
       "</style>\n",
       "<table border=\"1\" class=\"dataframe\">\n",
       "  <thead>\n",
       "    <tr style=\"text-align: right;\">\n",
       "      <th></th>\n",
       "      <th>Q1</th>\n",
       "      <th>Q2</th>\n",
       "      <th>Q3</th>\n",
       "      <th>Q4</th>\n",
       "      <th>Q5</th>\n",
       "      <th>Q6</th>\n",
       "      <th>Q7</th>\n",
       "      <th>Q8</th>\n",
       "      <th>Q9</th>\n",
       "      <th>XResult</th>\n",
       "    </tr>\n",
       "  </thead>\n",
       "  <tbody>\n",
       "    <tr>\n",
       "      <th>0</th>\n",
       "      <td>x</td>\n",
       "      <td>x</td>\n",
       "      <td>x</td>\n",
       "      <td>x</td>\n",
       "      <td>o</td>\n",
       "      <td>o</td>\n",
       "      <td>x</td>\n",
       "      <td>o</td>\n",
       "      <td>o</td>\n",
       "      <td>positive</td>\n",
       "    </tr>\n",
       "    <tr>\n",
       "      <th>1</th>\n",
       "      <td>x</td>\n",
       "      <td>x</td>\n",
       "      <td>x</td>\n",
       "      <td>x</td>\n",
       "      <td>o</td>\n",
       "      <td>o</td>\n",
       "      <td>o</td>\n",
       "      <td>x</td>\n",
       "      <td>o</td>\n",
       "      <td>positive</td>\n",
       "    </tr>\n",
       "    <tr>\n",
       "      <th>2</th>\n",
       "      <td>x</td>\n",
       "      <td>x</td>\n",
       "      <td>x</td>\n",
       "      <td>x</td>\n",
       "      <td>o</td>\n",
       "      <td>o</td>\n",
       "      <td>o</td>\n",
       "      <td>o</td>\n",
       "      <td>x</td>\n",
       "      <td>positive</td>\n",
       "    </tr>\n",
       "    <tr>\n",
       "      <th>3</th>\n",
       "      <td>x</td>\n",
       "      <td>x</td>\n",
       "      <td>x</td>\n",
       "      <td>x</td>\n",
       "      <td>o</td>\n",
       "      <td>o</td>\n",
       "      <td>o</td>\n",
       "      <td>b</td>\n",
       "      <td>b</td>\n",
       "      <td>positive</td>\n",
       "    </tr>\n",
       "    <tr>\n",
       "      <th>4</th>\n",
       "      <td>x</td>\n",
       "      <td>x</td>\n",
       "      <td>x</td>\n",
       "      <td>x</td>\n",
       "      <td>o</td>\n",
       "      <td>o</td>\n",
       "      <td>b</td>\n",
       "      <td>o</td>\n",
       "      <td>b</td>\n",
       "      <td>positive</td>\n",
       "    </tr>\n",
       "  </tbody>\n",
       "</table>\n",
       "</div>"
      ],
      "text/plain": [
       "  Q1 Q2 Q3 Q4 Q5 Q6 Q7 Q8 Q9   XResult\n",
       "0  x  x  x  x  o  o  x  o  o  positive\n",
       "1  x  x  x  x  o  o  o  x  o  positive\n",
       "2  x  x  x  x  o  o  o  o  x  positive\n",
       "3  x  x  x  x  o  o  o  b  b  positive\n",
       "4  x  x  x  x  o  o  b  o  b  positive"
      ]
     },
     "execution_count": 4,
     "metadata": {},
     "output_type": "execute_result"
    }
   ],
   "source": [
    "data.head()"
   ]
  },
  {
   "cell_type": "markdown",
   "metadata": {},
   "source": [
    "### 1.2 Tratando os dados"
   ]
  },
  {
   "cell_type": "markdown",
   "metadata": {},
   "source": [
    "- Lidando com campos não númericos\n",
    "    - \"positive\" vira 1\n",
    "    - \"negative\" vira -1"
   ]
  },
  {
   "cell_type": "code",
   "execution_count": 5,
   "metadata": {},
   "outputs": [],
   "source": [
    "data = data.replace(\"positive\", 1, regex=True)\n",
    "data = data.replace(\"negative\", -1, regex=True)"
   ]
  },
  {
   "cell_type": "code",
   "execution_count": 6,
   "metadata": {},
   "outputs": [],
   "source": [
    "data = data.replace(\"x\", 1, regex=True)\n",
    "data = data.replace(\"o\", -1, regex=True)\n",
    "data = data.replace(\"b\", 0, regex=True)"
   ]
  },
  {
   "cell_type": "code",
   "execution_count": 7,
   "metadata": {},
   "outputs": [
    {
     "data": {
      "text/html": [
       "<div>\n",
       "<style scoped>\n",
       "    .dataframe tbody tr th:only-of-type {\n",
       "        vertical-align: middle;\n",
       "    }\n",
       "\n",
       "    .dataframe tbody tr th {\n",
       "        vertical-align: top;\n",
       "    }\n",
       "\n",
       "    .dataframe thead th {\n",
       "        text-align: right;\n",
       "    }\n",
       "</style>\n",
       "<table border=\"1\" class=\"dataframe\">\n",
       "  <thead>\n",
       "    <tr style=\"text-align: right;\">\n",
       "      <th></th>\n",
       "      <th>Q1</th>\n",
       "      <th>Q2</th>\n",
       "      <th>Q3</th>\n",
       "      <th>Q4</th>\n",
       "      <th>Q5</th>\n",
       "      <th>Q6</th>\n",
       "      <th>Q7</th>\n",
       "      <th>Q8</th>\n",
       "      <th>Q9</th>\n",
       "      <th>XResult</th>\n",
       "    </tr>\n",
       "  </thead>\n",
       "  <tbody>\n",
       "    <tr>\n",
       "      <th>0</th>\n",
       "      <td>1</td>\n",
       "      <td>1</td>\n",
       "      <td>1</td>\n",
       "      <td>1</td>\n",
       "      <td>-1</td>\n",
       "      <td>-1</td>\n",
       "      <td>1</td>\n",
       "      <td>-1</td>\n",
       "      <td>-1</td>\n",
       "      <td>1</td>\n",
       "    </tr>\n",
       "    <tr>\n",
       "      <th>1</th>\n",
       "      <td>1</td>\n",
       "      <td>1</td>\n",
       "      <td>1</td>\n",
       "      <td>1</td>\n",
       "      <td>-1</td>\n",
       "      <td>-1</td>\n",
       "      <td>-1</td>\n",
       "      <td>1</td>\n",
       "      <td>-1</td>\n",
       "      <td>1</td>\n",
       "    </tr>\n",
       "    <tr>\n",
       "      <th>2</th>\n",
       "      <td>1</td>\n",
       "      <td>1</td>\n",
       "      <td>1</td>\n",
       "      <td>1</td>\n",
       "      <td>-1</td>\n",
       "      <td>-1</td>\n",
       "      <td>-1</td>\n",
       "      <td>-1</td>\n",
       "      <td>1</td>\n",
       "      <td>1</td>\n",
       "    </tr>\n",
       "    <tr>\n",
       "      <th>3</th>\n",
       "      <td>1</td>\n",
       "      <td>1</td>\n",
       "      <td>1</td>\n",
       "      <td>1</td>\n",
       "      <td>-1</td>\n",
       "      <td>-1</td>\n",
       "      <td>-1</td>\n",
       "      <td>0</td>\n",
       "      <td>0</td>\n",
       "      <td>1</td>\n",
       "    </tr>\n",
       "    <tr>\n",
       "      <th>4</th>\n",
       "      <td>1</td>\n",
       "      <td>1</td>\n",
       "      <td>1</td>\n",
       "      <td>1</td>\n",
       "      <td>-1</td>\n",
       "      <td>-1</td>\n",
       "      <td>0</td>\n",
       "      <td>-1</td>\n",
       "      <td>0</td>\n",
       "      <td>1</td>\n",
       "    </tr>\n",
       "  </tbody>\n",
       "</table>\n",
       "</div>"
      ],
      "text/plain": [
       "   Q1  Q2  Q3  Q4  Q5  Q6  Q7  Q8  Q9  XResult\n",
       "0   1   1   1   1  -1  -1   1  -1  -1        1\n",
       "1   1   1   1   1  -1  -1  -1   1  -1        1\n",
       "2   1   1   1   1  -1  -1  -1  -1   1        1\n",
       "3   1   1   1   1  -1  -1  -1   0   0        1\n",
       "4   1   1   1   1  -1  -1   0  -1   0        1"
      ]
     },
     "execution_count": 7,
     "metadata": {},
     "output_type": "execute_result"
    }
   ],
   "source": [
    "data.head()"
   ]
  },
  {
   "cell_type": "markdown",
   "metadata": {},
   "source": [
    "- Separando `Features` de `Target Output`"
   ]
  },
  {
   "cell_type": "code",
   "execution_count": 8,
   "metadata": {},
   "outputs": [],
   "source": [
    "features_data = data.iloc[:, :-1]"
   ]
  },
  {
   "cell_type": "code",
   "execution_count": 9,
   "metadata": {},
   "outputs": [
    {
     "data": {
      "text/plain": [
       "array([[ 1,  1,  1,  1, -1, -1,  1, -1, -1],\n",
       "       [ 1,  1,  1,  1, -1, -1, -1,  1, -1],\n",
       "       [ 1,  1,  1,  1, -1, -1, -1, -1,  1],\n",
       "       [ 1,  1,  1,  1, -1, -1, -1,  0,  0],\n",
       "       [ 1,  1,  1,  1, -1, -1,  0, -1,  0]], dtype=int64)"
      ]
     },
     "execution_count": 9,
     "metadata": {},
     "output_type": "execute_result"
    }
   ],
   "source": [
    "features_data.head().values"
   ]
  },
  {
   "cell_type": "code",
   "execution_count": 10,
   "metadata": {
    "scrolled": true
   },
   "outputs": [],
   "source": [
    "output_data = data.iloc[:, -1]"
   ]
  },
  {
   "cell_type": "code",
   "execution_count": 11,
   "metadata": {},
   "outputs": [
    {
     "data": {
      "text/plain": [
       "array([1, 1, 1, 1, 1], dtype=int64)"
      ]
     },
     "execution_count": 11,
     "metadata": {},
     "output_type": "execute_result"
    }
   ],
   "source": [
    "output_data.head().values"
   ]
  },
  {
   "cell_type": "markdown",
   "metadata": {},
   "source": [
    "### 1.3 Estabelecendo conjuntos treino e teste"
   ]
  },
  {
   "cell_type": "markdown",
   "metadata": {},
   "source": [
    "- Dividimos \"feature\" e \"output\" em treino(80%) e teste(20%), de forma aleatória:"
   ]
  },
  {
   "cell_type": "code",
   "execution_count": 12,
   "metadata": {},
   "outputs": [],
   "source": [
    "X = features_data.values\n",
    "y = output_data.values\n",
    "X_train, X_test, y_train, y_test = train_test_split(X, y, test_size=0.2, random_state=0)"
   ]
  },
  {
   "cell_type": "code",
   "execution_count": 13,
   "metadata": {},
   "outputs": [
    {
     "data": {
      "text/plain": [
       "array([ 1,  1,  1,  0, -1,  0, -1,  0,  0], dtype=int64)"
      ]
     },
     "execution_count": 13,
     "metadata": {},
     "output_type": "execute_result"
    }
   ],
   "source": [
    "X_train[200]"
   ]
  },
  {
   "cell_type": "code",
   "execution_count": 14,
   "metadata": {},
   "outputs": [
    {
     "name": "stdout",
     "output_type": "stream",
     "text": [
      "766\n",
      "192\n"
     ]
    }
   ],
   "source": [
    "print(len(X_train))\n",
    "print(len(X_test))"
   ]
  },
  {
   "cell_type": "markdown",
   "metadata": {},
   "source": [
    "### 2 Implementação de Boosting"
   ]
  },
  {
   "cell_type": "markdown",
   "metadata": {},
   "source": [
    "Classificação binária:\n",
    "- Nossas features são o estado dos quadrantes, o estado do tabuleiro, podendo conter X, O ou B (vazio)\n",
    "- Nossa output é +1 se X ganhou, -1 se X não ganhou\n"
   ]
  },
  {
   "cell_type": "markdown",
   "metadata": {},
   "source": [
    "#### 2.1 Funções auxiliares"
   ]
  },
  {
   "cell_type": "markdown",
   "metadata": {},
   "source": [
    "Tendo em vista a baixa complexidade do problema e a quantidade baixa de features, produziremos de antemão um grupo de  com todas as possiblidades de Stumps."
   ]
  },
  {
   "cell_type": "markdown",
   "metadata": {},
   "source": [
    "Os stumps contém informação sobre a feature que consideram, o valor que vão verificar se a feature se iguala e a predição (-1, 1) feita quando for verificada igualdade."
   ]
  },
  {
   "cell_type": "code",
   "execution_count": 15,
   "metadata": {},
   "outputs": [],
   "source": [
    "def createStump(splittingFeature, value, prediction):\n",
    "    stump = {'splittingFeature' : splittingFeature,\n",
    "             'value'            : value,\n",
    "             'prediction'       : prediction}\n",
    "    return stump "
   ]
  },
  {
   "cell_type": "markdown",
   "metadata": {},
   "source": [
    "A stump pool consiste no grupo com todas as possibilidades p/ Stumps."
   ]
  },
  {
   "cell_type": "code",
   "execution_count": 16,
   "metadata": {},
   "outputs": [],
   "source": [
    "def createStumpPool(features,values):\n",
    "    stumpPool = []\n",
    "    \n",
    "    stumpPool.append(createStump(None,None,1))\n",
    "    stumpPool.append(createStump(None,None,-1))\n",
    "    \n",
    "    for v in values:\n",
    "        for f in features:\n",
    "            stumpPool.append(createStump(f,v,1))\n",
    "            stumpPool.append(createStump(f,v,-1))\n",
    "    \n",
    "    return stumpPool        "
   ]
  },
  {
   "cell_type": "markdown",
   "metadata": {},
   "source": [
    "A função classify() faz as predições dados um stump e um grupo de features."
   ]
  },
  {
   "cell_type": "code",
   "execution_count": 17,
   "metadata": {},
   "outputs": [],
   "source": [
    "def classify(stump, X):\n",
    "    yPred = np.zeros((len(X)))\n",
    "    for i in range (len(X)):\n",
    "        yPred[i] = stump['prediction']\n",
    "        if (stump['splittingFeature'] != None):       \n",
    "            if (int(X[i][stump['splittingFeature']]) == stump['value']):\n",
    "                yPred[i] = stump['prediction']\n",
    "            else:\n",
    "                yPred[i] = -(stump['prediction'])\n",
    "    return yPred\n"
   ]
  },
  {
   "cell_type": "markdown",
   "metadata": {},
   "source": [
    "Abaixo temos uma função para evocar classify para todos os stumps da pool."
   ]
  },
  {
   "cell_type": "code",
   "execution_count": 18,
   "metadata": {},
   "outputs": [],
   "source": [
    "def poolClassify(stumpPool, X):\n",
    "#     y = np.zeros((len stumpPool, len(X)))\n",
    "    yLists = []\n",
    "    for s in  range(len(stumpPool)):\n",
    "        cl = classify(stumpPool[s],X)\n",
    "        yLists.append(cl)\n",
    "    return yLists"
   ]
  },
  {
   "cell_type": "markdown",
   "metadata": {},
   "source": [
    "A função _predictionMissIndexes()_ abaixo verifica e retorna índices de acerto e de erro no vetor de previsões."
   ]
  },
  {
   "cell_type": "code",
   "execution_count": 19,
   "metadata": {
    "scrolled": true
   },
   "outputs": [],
   "source": [
    "def predictionMissIndexes(yPred, yTarget):\n",
    "    miss = []\n",
    "    hit = []\n",
    "    for i in range (len(yPred)):\n",
    "        if yPred[i] != int(yTarget[i]):\n",
    "            miss.append(i)      \n",
    "        else:\n",
    "            hit.append(i)      \n",
    "    return miss, hit"
   ]
  },
  {
   "cell_type": "markdown",
   "metadata": {},
   "source": [
    "_MissIndexesCollection()_ abaixo evoca _predictionMissIndexes()_ para todos os stumps da pool, tendo em vista que suas listas de predição estão compiladas em yPredList."
   ]
  },
  {
   "cell_type": "code",
   "execution_count": 20,
   "metadata": {},
   "outputs": [],
   "source": [
    "def missIndexesCollection(yPredList, yTarget):\n",
    "    missCollection = []\n",
    "    hitCollection = []\n",
    "    for i in range (len(yPredList)):\n",
    "        miss, hit = predictionMissIndexes(yPredList[i], yTarget)\n",
    "        missCollection.append(miss)    \n",
    "        hitCollection.append(hit)\n",
    "    return missCollection, hitCollection"
   ]
  },
  {
   "cell_type": "markdown",
   "metadata": {},
   "source": [
    "_PredictionErrorScore()_ calcula o erro ponderado da previsão, isto é, soma e retorna os pesos das previsões erradas."
   ]
  },
  {
   "cell_type": "code",
   "execution_count": 21,
   "metadata": {},
   "outputs": [],
   "source": [
    "def predictionErrorScore(dataWeight, miss):\n",
    "    error = 0\n",
    "    for i in miss:\n",
    "        error += dataWeight[i]\n",
    "    return error"
   ]
  },
  {
   "cell_type": "markdown",
   "metadata": {},
   "source": [
    "_ErrorRate()_ calcula o erro não ponderado, baseado apenas na quantia de erros e na quantidade de amostras."
   ]
  },
  {
   "cell_type": "code",
   "execution_count": 22,
   "metadata": {},
   "outputs": [],
   "source": [
    "def errorRate(X, miss):\n",
    "    return len(miss)/len(X)    "
   ]
  },
  {
   "cell_type": "markdown",
   "metadata": {},
   "source": [
    "_pickBestStump()_ é a função que encontra e retorna o melhor stump dada uma configuração dos pesos. Baseia-se no erro ponderado."
   ]
  },
  {
   "cell_type": "code",
   "execution_count": 23,
   "metadata": {},
   "outputs": [],
   "source": [
    "def pickBestStump(miss, dataWeight):\n",
    "    bestStumpIdx  = 0\n",
    "    minErrorVal = 1 \n",
    "    \n",
    "    for i in range(len(miss)):\n",
    "        currError = predictionErrorScore(dataWeight, miss[i])\n",
    "        if(currError < minErrorVal):\n",
    "            minErrorVal = currError\n",
    "            bestStumpIdx = i\n",
    "    \n",
    "    return bestStumpIdx, minErrorVal"
   ]
  },
  {
   "cell_type": "markdown",
   "metadata": {},
   "source": [
    "#### 2.2 Algoritmo de boosting"
   ]
  },
  {
   "cell_type": "code",
   "execution_count": 24,
   "metadata": {},
   "outputs": [],
   "source": [
    "from math import log\n",
    "from math import exp"
   ]
  },
  {
   "cell_type": "markdown",
   "metadata": {},
   "source": [
    "###### Função de geração do classificador"
   ]
  },
  {
   "cell_type": "markdown",
   "metadata": {},
   "source": [
    "Auxiliada pelas funções apresentadas anteriormente, abaixo temos a nossa função de boosting. A função treina um classificador, dado pela combinação de _ensemble e alphas_, isto é, da escolha de stumps associada a um peso alpha.\n",
    "\n",
    "A função recebe:\n",
    "- X : features\n",
    "- y : target\n",
    "- featureColumns : índice das colunas das features que serão usadas\n",
    "- featurePossibleValues : valores que as features podem assumir (-1, 0 e 1; anteriormente o, b, x)\n",
    "    - Optamos por usar esse parâmetro para viabilizar a estratégia de geração prévia dos stumps, considerando a baixa complexidade do conjunto de dados com que estamos trabalhando neste trabalho prático.\n",
    "- iterations : quantidade de iterações"
   ]
  },
  {
   "cell_type": "code",
   "execution_count": 25,
   "metadata": {},
   "outputs": [],
   "source": [
    "def printDetails(iteration, epsilon, alpha, bestStump, weights):\n",
    "    print(\"-------------- Iteration \",iteration, \"--------------\")\n",
    "    print(\"cur. weights sample: \", weights)\n",
    "    print(\"BestStump: \", bestStump)\n",
    "    print(\"Epsilon: \", epsilon)\n",
    "    print(\"Alpha: \", alpha)\n",
    "    print(\"------------------------------------------\")\n",
    "    \n",
    "    "
   ]
  },
  {
   "cell_type": "code",
   "execution_count": 26,
   "metadata": {},
   "outputs": [],
   "source": [
    "def boosting(X, y, featureColumns, featurePossibleValues, iterations, printing = False):\n",
    "    dataWeight = np.full((len(X)), 1/len(X), dtype=float) \n",
    "    alphas = np.zeros((iterations))\n",
    "    stumpPool = createStumpPool(featureColumns, featurePossibleValues)\n",
    "    y_pred_lists = poolClassify(stumpPool, X)    \n",
    "    missCollection, hitCollection = missIndexesCollection(y_pred_lists, y)\n",
    "    \n",
    "    ensemble = []\n",
    "    for i in range(iterations):\n",
    "        #Escolhe o melhor stump e calcula seu epsilon\n",
    "        bestStumpIdx,epsilon = pickBestStump(missCollection, dataWeight)\n",
    "        \n",
    "        #Calcula alpha da iteração atual\n",
    "        alphas[i] = 0.5 * log((1-epsilon)/float(epsilon))\n",
    "               \n",
    "        if printing: printDetails(i, epsilon, alphas[i], stumpPool[bestStumpIdx], dataWeight[:12])    \n",
    "            \n",
    "        #Recalcula pesos para os casos de erro e acerto\n",
    "        for j in missCollection[bestStumpIdx]:\n",
    "            dataWeight[j] = dataWeight[j]*exp(alphas[i])\n",
    "        \n",
    "        for k in hitCollection[bestStumpIdx]:\n",
    "            dataWeight[k] = dataWeight[k]*exp(-alphas[i])\n",
    "        \n",
    "        #Regularizador para tornar soma dos pesos = 1\n",
    "        dataWeight = dataWeight / float(dataWeight.sum())\n",
    "        ensemble.append(stumpPool[bestStumpIdx])\n",
    "    return ensemble, alphas\n",
    "        "
   ]
  },
  {
   "cell_type": "markdown",
   "metadata": {},
   "source": [
    "###### Função de predição"
   ]
  },
  {
   "cell_type": "markdown",
   "metadata": {},
   "source": [
    "A predição ocorre da seguinte forma:\n",
    "- Caso a soma das predições dos stumps (ponderadas pelo alpha correspondente):\n",
    "    - resultem em um valor > 0: predição  = 1\n",
    "    - resultem em um valor <= 0: predição = -1"
   ]
  },
  {
   "cell_type": "code",
   "execution_count": 27,
   "metadata": {},
   "outputs": [],
   "source": [
    "def predict(alphas, ensemble, X):\n",
    "    \n",
    "    yPredLists = poolClassify(ensemble, X);\n",
    "    yPred = np.zeros((len(yPredLists[0])))\n",
    "    \n",
    "    for i in range(len(yPredLists)):        \n",
    "        yPredLists[i] = yPredLists[i] * alphas[i] \n",
    "        yPred += yPredLists[i]\n",
    "    \n",
    "    for j in range(len(yPred)):\n",
    "        if(yPred[j] > 0):\n",
    "            yPred[j] = 1\n",
    "        else:\n",
    "            yPred[j] = -1\n",
    "\n",
    "    return yPred"
   ]
  },
  {
   "cell_type": "markdown",
   "metadata": {},
   "source": [
    "### 3 Experimentos"
   ]
  },
  {
   "cell_type": "markdown",
   "metadata": {},
   "source": [
    "#### 3.1 Validação cruzada 5-fold"
   ]
  },
  {
   "cell_type": "markdown",
   "metadata": {},
   "source": [
    "A validação cruzada k-fold foi implementada manualmente, podendo ser executada nas células abaixo."
   ]
  },
  {
   "cell_type": "code",
   "execution_count": 28,
   "metadata": {},
   "outputs": [],
   "source": [
    "import random"
   ]
  },
  {
   "cell_type": "markdown",
   "metadata": {},
   "source": [
    "Método para a partição de conjuntos de treino e teste, dentro da fase de validação."
   ]
  },
  {
   "cell_type": "code",
   "execution_count": 29,
   "metadata": {},
   "outputs": [],
   "source": [
    "def kfoldcv(indices, k = 5, seed = 42):\n",
    "    size = len(indices)\n",
    "    subset_size = round(size / k)\n",
    "    random.Random(seed).shuffle(indices)\n",
    "    subsets = [indices[x:x+subset_size] for x in range(0, len(indices), subset_size)]\n",
    "    kfolds = []\n",
    "    for i in range(k):\n",
    "        test = subsets[i]\n",
    "        train = []\n",
    "        for subset in subsets:\n",
    "            if subset != test:\n",
    "                train += subset\n",
    "        kfolds.append((train,test))\n",
    "        \n",
    "    return kfolds"
   ]
  },
  {
   "cell_type": "code",
   "execution_count": 30,
   "metadata": {
    "scrolled": false
   },
   "outputs": [],
   "source": [
    "ix = list(range(len(X_train)))\n",
    "kfolds = kfoldcv(ix)"
   ]
  },
  {
   "cell_type": "markdown",
   "metadata": {},
   "source": [
    "Com o intuito de comparar o desempenho do classificador para variações do parâmetro _iterations_, realizamos múltiplas execuções. "
   ]
  },
  {
   "cell_type": "code",
   "execution_count": 31,
   "metadata": {
    "scrolled": true
   },
   "outputs": [
    {
     "data": {
      "text/plain": [
       "[1,\n",
       " 2,\n",
       " 4,\n",
       " 6,\n",
       " 8,\n",
       " 10,\n",
       " 12,\n",
       " 14,\n",
       " 16,\n",
       " 18,\n",
       " 20,\n",
       " 22,\n",
       " 24,\n",
       " 26,\n",
       " 28,\n",
       " 30,\n",
       " 32,\n",
       " 34,\n",
       " 36,\n",
       " 38,\n",
       " 40,\n",
       " 42,\n",
       " 44,\n",
       " 46,\n",
       " 48,\n",
       " 50,\n",
       " 52,\n",
       " 54,\n",
       " 56,\n",
       " 58,\n",
       " 60,\n",
       " 62,\n",
       " 64,\n",
       " 66,\n",
       " 68,\n",
       " 70,\n",
       " 72,\n",
       " 74,\n",
       " 76,\n",
       " 78,\n",
       " 80,\n",
       " 82,\n",
       " 84,\n",
       " 86,\n",
       " 88,\n",
       " 90,\n",
       " 92,\n",
       " 94,\n",
       " 96,\n",
       " 98,\n",
       " 100,\n",
       " 102,\n",
       " 104,\n",
       " 106,\n",
       " 108,\n",
       " 110,\n",
       " 112,\n",
       " 114,\n",
       " 116,\n",
       " 118,\n",
       " 120,\n",
       " 122,\n",
       " 124,\n",
       " 126,\n",
       " 128,\n",
       " 130,\n",
       " 132,\n",
       " 134,\n",
       " 136,\n",
       " 138,\n",
       " 140,\n",
       " 142,\n",
       " 144,\n",
       " 146,\n",
       " 148,\n",
       " 150,\n",
       " 152,\n",
       " 154,\n",
       " 156,\n",
       " 158,\n",
       " 160,\n",
       " 162,\n",
       " 164,\n",
       " 166,\n",
       " 168,\n",
       " 170,\n",
       " 172,\n",
       " 174,\n",
       " 176,\n",
       " 178,\n",
       " 180,\n",
       " 182,\n",
       " 184,\n",
       " 186,\n",
       " 188,\n",
       " 190,\n",
       " 192,\n",
       " 194,\n",
       " 196,\n",
       " 198,\n",
       " 200,\n",
       " 202,\n",
       " 204,\n",
       " 206,\n",
       " 208,\n",
       " 210,\n",
       " 212,\n",
       " 214,\n",
       " 216,\n",
       " 218,\n",
       " 220,\n",
       " 222,\n",
       " 224,\n",
       " 226,\n",
       " 228,\n",
       " 230,\n",
       " 232,\n",
       " 234,\n",
       " 236,\n",
       " 238,\n",
       " 240,\n",
       " 242,\n",
       " 244,\n",
       " 246,\n",
       " 248,\n",
       " 250,\n",
       " 252,\n",
       " 254]"
      ]
     },
     "execution_count": 31,
     "metadata": {},
     "output_type": "execute_result"
    }
   ],
   "source": [
    "iterationsGrid = list(range(128))\n",
    "iterationsGrid = [element * 2 for element in iterationsGrid]\n",
    "iterationsGrid[0] = 1\n",
    "iterationsGrid"
   ]
  },
  {
   "cell_type": "code",
   "execution_count": 32,
   "metadata": {
    "scrolled": true
   },
   "outputs": [
    {
     "name": "stdout",
     "output_type": "stream",
     "text": [
      "1  iteractions - M. Accuracy score: 0.7243066884176182\n",
      "2  iteractions - M. Accuracy score: 0.7243066884176182\n",
      "4  iteractions - M. Accuracy score: 0.734094616639478\n",
      "6  iteractions - M. Accuracy score: 0.7357259380097879\n",
      "8  iteractions - M. Accuracy score: 0.7455138662316476\n",
      "10  iteractions - M. Accuracy score: 0.7797716150081566\n",
      "12  iteractions - M. Accuracy score: 0.7814029363784666\n",
      "14  iteractions - M. Accuracy score: 0.7928221859706363\n",
      "16  iteractions - M. Accuracy score: 0.7814029363784666\n",
      "18  iteractions - M. Accuracy score: 0.7830342577487766\n",
      "20  iteractions - M. Accuracy score: 0.7944535073409462\n",
      "22  iteractions - M. Accuracy score: 0.800978792822186\n",
      "24  iteractions - M. Accuracy score: 0.7846655791190864\n",
      "26  iteractions - M. Accuracy score: 0.7862969004893964\n",
      "28  iteractions - M. Accuracy score: 0.7944535073409462\n",
      "30  iteractions - M. Accuracy score: 0.8075040783034257\n",
      "32  iteractions - M. Accuracy score: 0.8140293637846656\n",
      "34  iteractions - M. Accuracy score: 0.8058727569331158\n",
      "36  iteractions - M. Accuracy score: 0.8172920065252854\n",
      "38  iteractions - M. Accuracy score: 0.8270799347471451\n",
      "40  iteractions - M. Accuracy score: 0.8254486133768353\n",
      "42  iteractions - M. Accuracy score: 0.8189233278955954\n",
      "44  iteractions - M. Accuracy score: 0.8238172920065253\n",
      "46  iteractions - M. Accuracy score: 0.8238172920065253\n",
      "48  iteractions - M. Accuracy score: 0.833605220228385\n",
      "50  iteractions - M. Accuracy score: 0.8548123980424144\n",
      "52  iteractions - M. Accuracy score: 0.8515497553017944\n",
      "54  iteractions - M. Accuracy score: 0.8531810766721044\n",
      "56  iteractions - M. Accuracy score: 0.8515497553017944\n",
      "58  iteractions - M. Accuracy score: 0.8564437194127243\n",
      "60  iteractions - M. Accuracy score: 0.8694942903752039\n",
      "62  iteractions - M. Accuracy score: 0.8548123980424144\n",
      "64  iteractions - M. Accuracy score: 0.8531810766721044\n",
      "66  iteractions - M. Accuracy score: 0.8629690048939641\n",
      "68  iteractions - M. Accuracy score: 0.8711256117455138\n",
      "70  iteractions - M. Accuracy score: 0.8694942903752039\n",
      "72  iteractions - M. Accuracy score: 0.8727569331158238\n",
      "74  iteractions - M. Accuracy score: 0.8613376835236541\n",
      "76  iteractions - M. Accuracy score: 0.8743882544861338\n",
      "78  iteractions - M. Accuracy score: 0.867862969004894\n",
      "80  iteractions - M. Accuracy score: 0.8858075040783034\n",
      "82  iteractions - M. Accuracy score: 0.8792822185970636\n",
      "84  iteractions - M. Accuracy score: 0.8841761827079935\n",
      "86  iteractions - M. Accuracy score: 0.8841761827079935\n",
      "88  iteractions - M. Accuracy score: 0.8890701468189234\n",
      "90  iteractions - M. Accuracy score: 0.8955954323001631\n",
      "92  iteractions - M. Accuracy score: 0.9135399673735726\n",
      "94  iteractions - M. Accuracy score: 0.9037520391517129\n",
      "96  iteractions - M. Accuracy score: 0.9021207177814029\n",
      "98  iteractions - M. Accuracy score: 0.9004893964110929\n",
      "100  iteractions - M. Accuracy score: 0.9021207177814029\n",
      "102  iteractions - M. Accuracy score: 0.9086460032626428\n",
      "104  iteractions - M. Accuracy score: 0.9135399673735726\n",
      "106  iteractions - M. Accuracy score: 0.9314845024469821\n",
      "108  iteractions - M. Accuracy score: 0.9233278955954323\n",
      "110  iteractions - M. Accuracy score: 0.9151712887438825\n",
      "112  iteractions - M. Accuracy score: 0.9200652528548124\n",
      "114  iteractions - M. Accuracy score: 0.9282218597063622\n",
      "116  iteractions - M. Accuracy score: 0.933115823817292\n",
      "118  iteractions - M. Accuracy score: 0.9314845024469821\n",
      "120  iteractions - M. Accuracy score: 0.9216965742251223\n",
      "122  iteractions - M. Accuracy score: 0.9347471451876019\n",
      "124  iteractions - M. Accuracy score: 0.9347471451876019\n",
      "126  iteractions - M. Accuracy score: 0.9363784665579119\n",
      "128  iteractions - M. Accuracy score: 0.9380097879282219\n",
      "130  iteractions - M. Accuracy score: 0.9445350734094616\n",
      "132  iteractions - M. Accuracy score: 0.9412724306688418\n",
      "134  iteractions - M. Accuracy score: 0.9461663947797716\n",
      "136  iteractions - M. Accuracy score: 0.9494290375203915\n",
      "138  iteractions - M. Accuracy score: 0.9543230016313213\n",
      "140  iteractions - M. Accuracy score: 0.9624796084828712\n",
      "142  iteractions - M. Accuracy score: 0.9559543230016313\n",
      "144  iteractions - M. Accuracy score: 0.9494290375203915\n",
      "146  iteractions - M. Accuracy score: 0.9526916802610114\n",
      "148  iteractions - M. Accuracy score: 0.9510603588907015\n",
      "150  iteractions - M. Accuracy score: 0.9526916802610114\n",
      "152  iteractions - M. Accuracy score: 0.9608482871125612\n",
      "154  iteractions - M. Accuracy score: 0.965742251223491\n",
      "156  iteractions - M. Accuracy score: 0.965742251223491\n",
      "158  iteractions - M. Accuracy score: 0.965742251223491\n",
      "160  iteractions - M. Accuracy score: 0.9738988580750407\n",
      "162  iteractions - M. Accuracy score: 0.9722675367047309\n",
      "164  iteractions - M. Accuracy score: 0.965742251223491\n",
      "166  iteractions - M. Accuracy score: 0.964110929853181\n",
      "168  iteractions - M. Accuracy score: 0.9706362153344209\n",
      "170  iteractions - M. Accuracy score: 0.9624796084828712\n",
      "172  iteractions - M. Accuracy score: 0.9706362153344209\n",
      "174  iteractions - M. Accuracy score: 0.967373572593801\n",
      "176  iteractions - M. Accuracy score: 0.9755301794453507\n",
      "178  iteractions - M. Accuracy score: 0.9771615008156607\n",
      "180  iteractions - M. Accuracy score: 0.9787928221859706\n",
      "182  iteractions - M. Accuracy score: 0.9771615008156607\n",
      "184  iteractions - M. Accuracy score: 0.9755301794453507\n",
      "186  iteractions - M. Accuracy score: 0.9771615008156607\n",
      "188  iteractions - M. Accuracy score: 0.9755301794453507\n",
      "190  iteractions - M. Accuracy score: 0.9722675367047309\n",
      "192  iteractions - M. Accuracy score: 0.9755301794453507\n",
      "194  iteractions - M. Accuracy score: 0.9690048939641109\n",
      "196  iteractions - M. Accuracy score: 0.9690048939641109\n",
      "198  iteractions - M. Accuracy score: 0.9706362153344209\n",
      "200  iteractions - M. Accuracy score: 0.9787928221859706\n",
      "202  iteractions - M. Accuracy score: 0.9771615008156607\n",
      "204  iteractions - M. Accuracy score: 0.9771615008156607\n",
      "206  iteractions - M. Accuracy score: 0.9771615008156607\n",
      "208  iteractions - M. Accuracy score: 0.9755301794453507\n",
      "210  iteractions - M. Accuracy score: 0.9771615008156607\n",
      "212  iteractions - M. Accuracy score: 0.9804241435562806\n",
      "214  iteractions - M. Accuracy score: 0.9787928221859706\n",
      "216  iteractions - M. Accuracy score: 0.9787928221859706\n",
      "218  iteractions - M. Accuracy score: 0.9787928221859706\n",
      "220  iteractions - M. Accuracy score: 0.9820554649265906\n",
      "222  iteractions - M. Accuracy score: 0.9804241435562806\n",
      "224  iteractions - M. Accuracy score: 0.9804241435562806\n",
      "226  iteractions - M. Accuracy score: 0.9804241435562806\n",
      "228  iteractions - M. Accuracy score: 0.9771615008156607\n",
      "230  iteractions - M. Accuracy score: 0.9804241435562806\n",
      "232  iteractions - M. Accuracy score: 0.9804241435562806\n",
      "234  iteractions - M. Accuracy score: 0.9804241435562806\n",
      "236  iteractions - M. Accuracy score: 0.9804241435562806\n",
      "238  iteractions - M. Accuracy score: 0.9820554649265906\n",
      "240  iteractions - M. Accuracy score: 0.9820554649265906\n",
      "242  iteractions - M. Accuracy score: 0.9804241435562806\n",
      "244  iteractions - M. Accuracy score: 0.9787928221859706\n",
      "246  iteractions - M. Accuracy score: 0.9804241435562806\n",
      "248  iteractions - M. Accuracy score: 0.9820554649265906\n",
      "250  iteractions - M. Accuracy score: 0.9836867862969005\n",
      "252  iteractions - M. Accuracy score: 0.9820554649265906\n",
      "254  iteractions - M. Accuracy score: 0.9804241435562806\n"
     ]
    }
   ],
   "source": [
    "cvScores = []\n",
    "for n in iterationsGrid:\n",
    "    meanAccuracy = 0;\n",
    "    for i in range(5):\n",
    "        ensemble_, alphas_ = boosting(X_train[kfolds[i][0]], y_train[kfolds[i][0]], [0,1,2,3,4,5,6,7,8], [-1,0,1], n)\n",
    "        y_pred_ = predict(alphas_, ensemble_, X_train[kfolds[i][0]])\n",
    "        meanAccuracy = meanAccuracy + metrics.accuracy_score(y_train[kfolds[i][0]], y_pred_)\n",
    "    meanAccuracy = meanAccuracy/5 \n",
    "    cvScores.append(meanAccuracy)\n",
    "    \n",
    "    print(n,\" iteractions - M. Accuracy score:\",metrics.accuracy_score(y_train[kfolds[i][0]], y_pred_))"
   ]
  },
  {
   "cell_type": "markdown",
   "metadata": {},
   "source": [
    "Efetuando validação cruzada 5-fold, com base no score de acurácia, juntamente à variação do parâmetro do número de iterações, obtivemos o gráfico abaixo, que nos revela a evolução e melhora do modelo com o aumento das iterações."
   ]
  },
  {
   "cell_type": "code",
   "execution_count": 33,
   "metadata": {
    "scrolled": true
   },
   "outputs": [
    {
     "data": {
      "image/png": "[encoded data removed]",
      "text/plain": [
       "<Figure size 504x360 with 1 Axes>"
      ]
     },
     "metadata": {
      "needs_background": "light"
     },
     "output_type": "display_data"
    }
   ],
   "source": [
    "plt.rcParams['figure.figsize'] = 7, 5\n",
    "plt.plot(iterationsGrid, cvScores, '-', linewidth=4.0, label='Training Accuracy')\n",
    "plt.title('Accuracy on 5-fold Cross-validation')\n",
    "plt.xlabel('# of iterations')\n",
    "plt.ylabel('Classification error')\n",
    "plt.legend(loc='best', prop={'size':15})\n",
    "\n",
    "plt.rcParams.update({'font.size': 16})"
   ]
  },
  {
   "cell_type": "markdown",
   "metadata": {},
   "source": [
    "A partir os resultados obtidos acima, observamos que o modelo mostrou-se robusto à overfitting, de forma com que podemos utilizar valores bastante altos para o número de iterações e atingir resultados muito bons."
   ]
  },
  {
   "cell_type": "markdown",
   "metadata": {},
   "source": [
    "#### 3.2 Treino"
   ]
  },
  {
   "cell_type": "markdown",
   "metadata": {},
   "source": [
    "##### 3.2.1 Exemplo: observando as iterações durante o boosting"
   ]
  },
  {
   "cell_type": "markdown",
   "metadata": {},
   "source": [
    "Primeiramente, vamos treinar um modelo mais simples, com menor número de iterações, mas apresentando prints sobre o estado do boosting iterativamente."
   ]
  },
  {
   "cell_type": "markdown",
   "metadata": {},
   "source": [
    "Mostraremos, para cada iteração, alguns valores relevantes:\n",
    "- Uma parte dos pesos para cada amostra\n",
    "- O melhor stump p/ iteração \n",
    "- O valor de epsilon (erro ponderado)\n",
    "- O valor de alpha"
   ]
  },
  {
   "cell_type": "code",
   "execution_count": 34,
   "metadata": {},
   "outputs": [],
   "source": [
    "n_iter = 4"
   ]
  },
  {
   "cell_type": "code",
   "execution_count": 35,
   "metadata": {},
   "outputs": [
    {
     "name": "stdout",
     "output_type": "stream",
     "text": [
      "-------------- Iteration  0 --------------\n",
      "cur. weights sample:  [0.00130548 0.00130548 0.00130548 0.00130548 0.00130548 0.00130548\n",
      " 0.00130548 0.00130548 0.00130548 0.00130548 0.00130548 0.00130548]\n",
      "BestStump:  {'splittingFeature': 4, 'value': -1, 'prediction': -1}\n",
      "Epsilon:  0.2845953002610977\n",
      "Alpha:  0.4608901120794606\n",
      "------------------------------------------\n",
      "-------------- Iteration  1 --------------\n",
      "cur. weights sample:  [0.00091241 0.00091241 0.00229358 0.00229358 0.00091241 0.00091241\n",
      " 0.00091241 0.00091241 0.00091241 0.00229358 0.00091241 0.00091241]\n",
      "BestStump:  {'splittingFeature': 8, 'value': -1, 'prediction': -1}\n",
      "Epsilon:  0.35760563851871635\n",
      "Alpha:  0.29288578723923164\n",
      "------------------------------------------\n",
      "-------------- Iteration  2 --------------\n",
      "cur. weights sample:  [0.00071016 0.00127572 0.00178518 0.00320685 0.00071016 0.00071016\n",
      " 0.00071016 0.00071016 0.00071016 0.00178518 0.00071016 0.00071016]\n",
      "BestStump:  {'splittingFeature': 2, 'value': -1, 'prediction': -1}\n",
      "Epsilon:  0.35984745285084246\n",
      "Alpha:  0.2880131516535692\n",
      "------------------------------------------\n",
      "-------------- Iteration  3 --------------\n",
      "cur. weights sample:  [0.00098675 0.00099642 0.00139434 0.00445585 0.00055468 0.00055468\n",
      " 0.00098675 0.00055468 0.00098675 0.00139434 0.00055468 0.00098675]\n",
      "BestStump:  {'splittingFeature': 0, 'value': -1, 'prediction': -1}\n",
      "Epsilon:  0.3679492319402256\n",
      "Alpha:  0.2705123740806402\n",
      "------------------------------------------\n",
      "Wall time: 78.8 ms\n"
     ]
    }
   ],
   "source": [
    "%%time\n",
    "ensemble, alphas = boosting(X_train, y_train, [0,1,2,3,4,5,6,7,8], [-1,0,1], n_iter, True)"
   ]
  },
  {
   "cell_type": "markdown",
   "metadata": {},
   "source": [
    "##### 3.2.2 Treino definitivo"
   ]
  },
  {
   "cell_type": "markdown",
   "metadata": {},
   "source": [
    "Logo abaixo, realizaremos o treino do modelo com 250 iterações."
   ]
  },
  {
   "cell_type": "code",
   "execution_count": 36,
   "metadata": {
    "scrolled": true
   },
   "outputs": [
    {
     "name": "stdout",
     "output_type": "stream",
     "text": [
      "Wall time: 1.28 s\n"
     ]
    }
   ],
   "source": [
    "%%time\n",
    "ensemble, alphas = boosting(X_train, y_train, [0,1,2,3,4,5,6,7,8], [-1,0,1], 250)"
   ]
  },
  {
   "cell_type": "code",
   "execution_count": 37,
   "metadata": {
    "scrolled": true
   },
   "outputs": [
    {
     "data": {
      "text/plain": [
       "[{'splittingFeature': 4, 'value': -1, 'prediction': -1},\n",
       " {'splittingFeature': 8, 'value': -1, 'prediction': -1},\n",
       " {'splittingFeature': 2, 'value': -1, 'prediction': -1},\n",
       " {'splittingFeature': 0, 'value': -1, 'prediction': -1},\n",
       " {'splittingFeature': 6, 'value': -1, 'prediction': -1},\n",
       " {'splittingFeature': 4, 'value': 1, 'prediction': 1},\n",
       " {'splittingFeature': 7, 'value': -1, 'prediction': -1},\n",
       " {'splittingFeature': 2, 'value': 1, 'prediction': 1},\n",
       " {'splittingFeature': 6, 'value': 1, 'prediction': 1},\n",
       " {'splittingFeature': 0, 'value': 1, 'prediction': 1},\n",
       " {'splittingFeature': 5, 'value': -1, 'prediction': -1},\n",
       " {'splittingFeature': 8, 'value': 1, 'prediction': 1},\n",
       " {'splittingFeature': 1, 'value': -1, 'prediction': -1},\n",
       " {'splittingFeature': 3, 'value': -1, 'prediction': -1},\n",
       " {'splittingFeature': 4, 'value': 1, 'prediction': 1},\n",
       " {'splittingFeature': 6, 'value': 1, 'prediction': 1},\n",
       " {'splittingFeature': 2, 'value': 1, 'prediction': 1},\n",
       " {'splittingFeature': 7, 'value': -1, 'prediction': -1},\n",
       " {'splittingFeature': 0, 'value': 1, 'prediction': 1},\n",
       " {'splittingFeature': 8, 'value': 1, 'prediction': 1},\n",
       " {'splittingFeature': 1, 'value': 1, 'prediction': 1},\n",
       " {'splittingFeature': 3, 'value': 1, 'prediction': 1},\n",
       " {'splittingFeature': 5, 'value': 1, 'prediction': 1},\n",
       " {'splittingFeature': 4, 'value': -1, 'prediction': -1},\n",
       " {'splittingFeature': 8, 'value': -1, 'prediction': -1},\n",
       " {'splittingFeature': 7, 'value': 1, 'prediction': 1},\n",
       " {'splittingFeature': 0, 'value': -1, 'prediction': -1},\n",
       " {'splittingFeature': 6, 'value': 1, 'prediction': 1},\n",
       " {'splittingFeature': 2, 'value': -1, 'prediction': -1},\n",
       " {'splittingFeature': 4, 'value': 1, 'prediction': 1},\n",
       " {'splittingFeature': 3, 'value': -1, 'prediction': -1},\n",
       " {'splittingFeature': 1, 'value': 1, 'prediction': 1},\n",
       " {'splittingFeature': 1, 'value': 0, 'prediction': 1},\n",
       " {'splittingFeature': 5, 'value': -1, 'prediction': -1},\n",
       " {'splittingFeature': 6, 'value': -1, 'prediction': -1},\n",
       " {'splittingFeature': 2, 'value': 1, 'prediction': 1},\n",
       " {'splittingFeature': 7, 'value': -1, 'prediction': -1},\n",
       " {'splittingFeature': 0, 'value': 1, 'prediction': 1},\n",
       " {'splittingFeature': 8, 'value': 1, 'prediction': 1},\n",
       " {'splittingFeature': 1, 'value': 1, 'prediction': 1},\n",
       " {'splittingFeature': 3, 'value': 1, 'prediction': 1},\n",
       " {'splittingFeature': 5, 'value': 1, 'prediction': 1},\n",
       " {'splittingFeature': 4, 'value': -1, 'prediction': -1},\n",
       " {'splittingFeature': 8, 'value': -1, 'prediction': -1},\n",
       " {'splittingFeature': 7, 'value': 1, 'prediction': 1},\n",
       " {'splittingFeature': 0, 'value': -1, 'prediction': -1},\n",
       " {'splittingFeature': 6, 'value': 1, 'prediction': 1},\n",
       " {'splittingFeature': 2, 'value': -1, 'prediction': -1},\n",
       " {'splittingFeature': 4, 'value': 1, 'prediction': 1},\n",
       " {'splittingFeature': 3, 'value': -1, 'prediction': -1},\n",
       " {'splittingFeature': 1, 'value': 1, 'prediction': 1},\n",
       " {'splittingFeature': 1, 'value': 0, 'prediction': 1},\n",
       " {'splittingFeature': 5, 'value': -1, 'prediction': -1},\n",
       " {'splittingFeature': 6, 'value': -1, 'prediction': -1},\n",
       " {'splittingFeature': 2, 'value': 1, 'prediction': 1},\n",
       " {'splittingFeature': 7, 'value': -1, 'prediction': -1},\n",
       " {'splittingFeature': 0, 'value': 1, 'prediction': 1},\n",
       " {'splittingFeature': 8, 'value': 1, 'prediction': 1},\n",
       " {'splittingFeature': 1, 'value': 1, 'prediction': 1},\n",
       " {'splittingFeature': 3, 'value': 1, 'prediction': 1},\n",
       " {'splittingFeature': 5, 'value': 1, 'prediction': 1},\n",
       " {'splittingFeature': 4, 'value': -1, 'prediction': -1},\n",
       " {'splittingFeature': 8, 'value': -1, 'prediction': -1},\n",
       " {'splittingFeature': 7, 'value': 1, 'prediction': 1},\n",
       " {'splittingFeature': 0, 'value': -1, 'prediction': -1},\n",
       " {'splittingFeature': 6, 'value': 1, 'prediction': 1},\n",
       " {'splittingFeature': 2, 'value': -1, 'prediction': -1},\n",
       " {'splittingFeature': 3, 'value': 0, 'prediction': 1},\n",
       " {'splittingFeature': 3, 'value': 1, 'prediction': 1},\n",
       " {'splittingFeature': 1, 'value': -1, 'prediction': -1},\n",
       " {'splittingFeature': 5, 'value': -1, 'prediction': -1},\n",
       " {'splittingFeature': 6, 'value': 0, 'prediction': 1},\n",
       " {'splittingFeature': 7, 'value': -1, 'prediction': -1},\n",
       " {'splittingFeature': 4, 'value': 1, 'prediction': 1},\n",
       " {'splittingFeature': 6, 'value': 1, 'prediction': 1},\n",
       " {'splittingFeature': 2, 'value': 1, 'prediction': 1},\n",
       " {'splittingFeature': 8, 'value': -1, 'prediction': -1},\n",
       " {'splittingFeature': 0, 'value': 1, 'prediction': 1},\n",
       " {'splittingFeature': 4, 'value': -1, 'prediction': -1},\n",
       " {'splittingFeature': 3, 'value': -1, 'prediction': -1},\n",
       " {'splittingFeature': 1, 'value': 1, 'prediction': 1},\n",
       " {'splittingFeature': 5, 'value': 1, 'prediction': 1},\n",
       " {'splittingFeature': 6, 'value': -1, 'prediction': -1},\n",
       " {'splittingFeature': 7, 'value': 1, 'prediction': 1},\n",
       " {'splittingFeature': 2, 'value': -1, 'prediction': -1},\n",
       " {'splittingFeature': 8, 'value': 1, 'prediction': 1},\n",
       " {'splittingFeature': 3, 'value': 1, 'prediction': 1},\n",
       " {'splittingFeature': 0, 'value': -1, 'prediction': -1},\n",
       " {'splittingFeature': 5, 'value': -1, 'prediction': -1},\n",
       " {'splittingFeature': 1, 'value': 1, 'prediction': 1},\n",
       " {'splittingFeature': 1, 'value': 0, 'prediction': 1},\n",
       " {'splittingFeature': 7, 'value': -1, 'prediction': -1},\n",
       " {'splittingFeature': 4, 'value': 1, 'prediction': 1},\n",
       " {'splittingFeature': 6, 'value': 1, 'prediction': 1},\n",
       " {'splittingFeature': 8, 'value': -1, 'prediction': -1},\n",
       " {'splittingFeature': 2, 'value': 1, 'prediction': 1},\n",
       " {'splittingFeature': 3, 'value': -1, 'prediction': -1},\n",
       " {'splittingFeature': 1, 'value': 1, 'prediction': 1},\n",
       " {'splittingFeature': 0, 'value': 1, 'prediction': 1},\n",
       " {'splittingFeature': 5, 'value': -1, 'prediction': -1},\n",
       " {'splittingFeature': 4, 'value': -1, 'prediction': -1},\n",
       " {'splittingFeature': 0, 'value': 0, 'prediction': 1},\n",
       " {'splittingFeature': 6, 'value': -1, 'prediction': -1},\n",
       " {'splittingFeature': 7, 'value': 1, 'prediction': 1},\n",
       " {'splittingFeature': 2, 'value': -1, 'prediction': -1},\n",
       " {'splittingFeature': 8, 'value': 1, 'prediction': 1},\n",
       " {'splittingFeature': 0, 'value': 1, 'prediction': 1},\n",
       " {'splittingFeature': 5, 'value': 1, 'prediction': 1},\n",
       " {'splittingFeature': 3, 'value': 1, 'prediction': 1},\n",
       " {'splittingFeature': 1, 'value': -1, 'prediction': -1},\n",
       " {'splittingFeature': 7, 'value': -1, 'prediction': -1},\n",
       " {'splittingFeature': 4, 'value': 1, 'prediction': 1},\n",
       " {'splittingFeature': 6, 'value': 1, 'prediction': 1},\n",
       " {'splittingFeature': 8, 'value': -1, 'prediction': -1},\n",
       " {'splittingFeature': 2, 'value': 1, 'prediction': 1},\n",
       " {'splittingFeature': 3, 'value': -1, 'prediction': -1},\n",
       " {'splittingFeature': 4, 'value': 0, 'prediction': 1},\n",
       " {'splittingFeature': 0, 'value': -1, 'prediction': -1},\n",
       " {'splittingFeature': 4, 'value': 1, 'prediction': 1},\n",
       " {'splittingFeature': 5, 'value': -1, 'prediction': -1},\n",
       " {'splittingFeature': 1, 'value': 1, 'prediction': 1},\n",
       " {'splittingFeature': 6, 'value': -1, 'prediction': -1},\n",
       " {'splittingFeature': 7, 'value': 1, 'prediction': 1},\n",
       " {'splittingFeature': 2, 'value': -1, 'prediction': -1},\n",
       " {'splittingFeature': 8, 'value': 1, 'prediction': 1},\n",
       " {'splittingFeature': 0, 'value': 1, 'prediction': 1},\n",
       " {'splittingFeature': 5, 'value': 1, 'prediction': 1},\n",
       " {'splittingFeature': 3, 'value': 1, 'prediction': 1},\n",
       " {'splittingFeature': 7, 'value': -1, 'prediction': -1},\n",
       " {'splittingFeature': 1, 'value': -1, 'prediction': -1},\n",
       " {'splittingFeature': 3, 'value': 0, 'prediction': 1},\n",
       " {'splittingFeature': 4, 'value': -1, 'prediction': -1},\n",
       " {'splittingFeature': 8, 'value': -1, 'prediction': -1},\n",
       " {'splittingFeature': 6, 'value': 1, 'prediction': 1},\n",
       " {'splittingFeature': 3, 'value': 1, 'prediction': 1},\n",
       " {'splittingFeature': 2, 'value': -1, 'prediction': -1},\n",
       " {'splittingFeature': 1, 'value': 1, 'prediction': 1},\n",
       " {'splittingFeature': 5, 'value': -1, 'prediction': -1},\n",
       " {'splittingFeature': 0, 'value': 1, 'prediction': 1},\n",
       " {'splittingFeature': 0, 'value': 0, 'prediction': 1},\n",
       " {'splittingFeature': 4, 'value': 1, 'prediction': 1},\n",
       " {'splittingFeature': 6, 'value': -1, 'prediction': -1},\n",
       " {'splittingFeature': 7, 'value': -1, 'prediction': -1},\n",
       " {'splittingFeature': 2, 'value': 1, 'prediction': 1},\n",
       " {'splittingFeature': 8, 'value': 1, 'prediction': 1},\n",
       " {'splittingFeature': 3, 'value': -1, 'prediction': -1},\n",
       " {'splittingFeature': 5, 'value': 1, 'prediction': 1},\n",
       " {'splittingFeature': 0, 'value': 1, 'prediction': 1},\n",
       " {'splittingFeature': 1, 'value': -1, 'prediction': -1},\n",
       " {'splittingFeature': 7, 'value': 1, 'prediction': 1},\n",
       " {'splittingFeature': 4, 'value': -1, 'prediction': -1},\n",
       " {'splittingFeature': 8, 'value': -1, 'prediction': -1},\n",
       " {'splittingFeature': 3, 'value': 1, 'prediction': 1},\n",
       " {'splittingFeature': 6, 'value': 1, 'prediction': 1},\n",
       " {'splittingFeature': 2, 'value': 1, 'prediction': 1},\n",
       " {'splittingFeature': 5, 'value': -1, 'prediction': -1},\n",
       " {'splittingFeature': 6, 'value': 0, 'prediction': 1},\n",
       " {'splittingFeature': 0, 'value': -1, 'prediction': -1},\n",
       " {'splittingFeature': 4, 'value': 1, 'prediction': 1},\n",
       " {'splittingFeature': 1, 'value': 1, 'prediction': 1},\n",
       " {'splittingFeature': 7, 'value': -1, 'prediction': -1},\n",
       " {'splittingFeature': 6, 'value': 1, 'prediction': 1},\n",
       " {'splittingFeature': 2, 'value': -1, 'prediction': -1},\n",
       " {'splittingFeature': 8, 'value': 1, 'prediction': 1},\n",
       " {'splittingFeature': 3, 'value': -1, 'prediction': -1},\n",
       " {'splittingFeature': 5, 'value': 1, 'prediction': 1},\n",
       " {'splittingFeature': 1, 'value': -1, 'prediction': -1},\n",
       " {'splittingFeature': 8, 'value': 0, 'prediction': 1},\n",
       " {'splittingFeature': 4, 'value': -1, 'prediction': -1},\n",
       " {'splittingFeature': 0, 'value': 1, 'prediction': 1},\n",
       " {'splittingFeature': 8, 'value': 1, 'prediction': 1},\n",
       " {'splittingFeature': 7, 'value': 1, 'prediction': 1},\n",
       " {'splittingFeature': 6, 'value': -1, 'prediction': -1},\n",
       " {'splittingFeature': 5, 'value': -1, 'prediction': -1},\n",
       " {'splittingFeature': 3, 'value': 1, 'prediction': 1},\n",
       " {'splittingFeature': 2, 'value': -1, 'prediction': -1},\n",
       " {'splittingFeature': 1, 'value': 1, 'prediction': 1},\n",
       " {'splittingFeature': 0, 'value': -1, 'prediction': -1},\n",
       " {'splittingFeature': 4, 'value': 1, 'prediction': 1},\n",
       " {'splittingFeature': 7, 'value': -1, 'prediction': -1},\n",
       " {'splittingFeature': 1, 'value': 0, 'prediction': 1},\n",
       " {'splittingFeature': 6, 'value': 1, 'prediction': 1},\n",
       " {'splittingFeature': 8, 'value': -1, 'prediction': -1},\n",
       " {'splittingFeature': 3, 'value': -1, 'prediction': -1},\n",
       " {'splittingFeature': 1, 'value': 1, 'prediction': 1},\n",
       " {'splittingFeature': 2, 'value': 1, 'prediction': 1},\n",
       " {'splittingFeature': 5, 'value': -1, 'prediction': -1},\n",
       " {'splittingFeature': 0, 'value': 1, 'prediction': 1},\n",
       " {'splittingFeature': 7, 'value': 1, 'prediction': 1},\n",
       " {'splittingFeature': 4, 'value': -1, 'prediction': -1},\n",
       " {'splittingFeature': 8, 'value': 1, 'prediction': 1},\n",
       " {'splittingFeature': 6, 'value': -1, 'prediction': -1},\n",
       " {'splittingFeature': 0, 'value': 0, 'prediction': 1},\n",
       " {'splittingFeature': 3, 'value': -1, 'prediction': -1},\n",
       " {'splittingFeature': 5, 'value': 1, 'prediction': 1},\n",
       " {'splittingFeature': 0, 'value': 1, 'prediction': 1},\n",
       " {'splittingFeature': 2, 'value': -1, 'prediction': -1},\n",
       " {'splittingFeature': 7, 'value': -1, 'prediction': -1},\n",
       " {'splittingFeature': 1, 'value': 1, 'prediction': 1},\n",
       " {'splittingFeature': 1, 'value': 0, 'prediction': 1},\n",
       " {'splittingFeature': 4, 'value': -1, 'prediction': -1},\n",
       " {'splittingFeature': 8, 'value': -1, 'prediction': -1},\n",
       " {'splittingFeature': 6, 'value': 1, 'prediction': 1},\n",
       " {'splittingFeature': 3, 'value': 1, 'prediction': 1},\n",
       " {'splittingFeature': 5, 'value': -1, 'prediction': -1},\n",
       " {'splittingFeature': 1, 'value': 1, 'prediction': 1},\n",
       " {'splittingFeature': 2, 'value': 1, 'prediction': 1},\n",
       " {'splittingFeature': 0, 'value': -1, 'prediction': -1},\n",
       " {'splittingFeature': 4, 'value': 1, 'prediction': 1},\n",
       " {'splittingFeature': 7, 'value': -1, 'prediction': -1},\n",
       " {'splittingFeature': 8, 'value': 1, 'prediction': 1},\n",
       " {'splittingFeature': 6, 'value': -1, 'prediction': -1},\n",
       " {'splittingFeature': 2, 'value': 0, 'prediction': 1},\n",
       " {'splittingFeature': 3, 'value': -1, 'prediction': -1},\n",
       " {'splittingFeature': 5, 'value': 1, 'prediction': 1},\n",
       " {'splittingFeature': 2, 'value': 1, 'prediction': 1},\n",
       " {'splittingFeature': 1, 'value': -1, 'prediction': -1},\n",
       " {'splittingFeature': 0, 'value': 1, 'prediction': 1},\n",
       " {'splittingFeature': 7, 'value': 1, 'prediction': 1},\n",
       " {'splittingFeature': 4, 'value': -1, 'prediction': -1},\n",
       " {'splittingFeature': 8, 'value': -1, 'prediction': -1},\n",
       " {'splittingFeature': 6, 'value': 1, 'prediction': 1},\n",
       " {'splittingFeature': 3, 'value': 1, 'prediction': 1},\n",
       " {'splittingFeature': 5, 'value': -1, 'prediction': -1},\n",
       " {'splittingFeature': 1, 'value': 1, 'prediction': 1},\n",
       " {'splittingFeature': 0, 'value': -1, 'prediction': -1},\n",
       " {'splittingFeature': 6, 'value': 0, 'prediction': 1},\n",
       " {'splittingFeature': 2, 'value': -1, 'prediction': -1},\n",
       " {'splittingFeature': 7, 'value': -1, 'prediction': -1},\n",
       " {'splittingFeature': 4, 'value': 1, 'prediction': 1},\n",
       " {'splittingFeature': 6, 'value': 1, 'prediction': 1},\n",
       " {'splittingFeature': 8, 'value': 1, 'prediction': 1},\n",
       " {'splittingFeature': 3, 'value': -1, 'prediction': -1},\n",
       " {'splittingFeature': 5, 'value': 1, 'prediction': 1},\n",
       " {'splittingFeature': 0, 'value': 1, 'prediction': 1},\n",
       " {'splittingFeature': 1, 'value': -1, 'prediction': -1},\n",
       " {'splittingFeature': 2, 'value': 1, 'prediction': 1},\n",
       " {'splittingFeature': 7, 'value': 1, 'prediction': 1},\n",
       " {'splittingFeature': 4, 'value': -1, 'prediction': -1},\n",
       " {'splittingFeature': 8, 'value': -1, 'prediction': -1},\n",
       " {'splittingFeature': 0, 'value': 0, 'prediction': 1},\n",
       " {'splittingFeature': 6, 'value': -1, 'prediction': -1},\n",
       " {'splittingFeature': 5, 'value': -1, 'prediction': -1},\n",
       " {'splittingFeature': 3, 'value': 1, 'prediction': 1},\n",
       " {'splittingFeature': 0, 'value': 1, 'prediction': 1},\n",
       " {'splittingFeature': 1, 'value': 1, 'prediction': 1},\n",
       " {'splittingFeature': 7, 'value': -1, 'prediction': -1},\n",
       " {'splittingFeature': 3, 'value': 0, 'prediction': 1},\n",
       " {'splittingFeature': 2, 'value': -1, 'prediction': -1},\n",
       " {'splittingFeature': 4, 'value': 1, 'prediction': 1}]"
      ]
     },
     "execution_count": 37,
     "metadata": {},
     "output_type": "execute_result"
    }
   ],
   "source": [
    "ensemble"
   ]
  },
  {
   "cell_type": "code",
   "execution_count": 38,
   "metadata": {
    "scrolled": true
   },
   "outputs": [
    {
     "data": {
      "text/plain": [
       "array([0.46089011, 0.29288579, 0.28801315, 0.27051237, 0.25760764,\n",
       "       0.19020913, 0.10801129, 0.1235074 , 0.1205649 , 0.11727477,\n",
       "       0.12259715, 0.12199742, 0.14083052, 0.12534166, 0.11323124,\n",
       "       0.09567063, 0.09918314, 0.0914556 , 0.10214205, 0.09942471,\n",
       "       0.10850814, 0.10952228, 0.10644341, 0.09991602, 0.10515756,\n",
       "       0.09526502, 0.1031139 , 0.08779212, 0.10164823, 0.0918941 ,\n",
       "       0.08451572, 0.09799058, 0.09260305, 0.10632203, 0.09759243,\n",
       "       0.08958991, 0.1005079 , 0.09710042, 0.09548905, 0.09750637,\n",
       "       0.10673145, 0.09348189, 0.0956331 , 0.09396187, 0.09606012,\n",
       "       0.09337823, 0.09749281, 0.09712923, 0.0904344 , 0.0877726 ,\n",
       "       0.09486289, 0.10478936, 0.10080457, 0.09583708, 0.09141681,\n",
       "       0.09578454, 0.09360407, 0.09430311, 0.09940352, 0.0984382 ,\n",
       "       0.09069244, 0.09436484, 0.09357075, 0.09104117, 0.09300992,\n",
       "       0.09441326, 0.09237693, 0.09744705, 0.09558163, 0.10441121,\n",
       "       0.09262383, 0.0954747 , 0.09453582, 0.08894234, 0.09704106,\n",
       "       0.09770523, 0.09158857, 0.09699377, 0.09582041, 0.08524512,\n",
       "       0.09800835, 0.09785276, 0.08504784, 0.08976517, 0.09661276,\n",
       "       0.09254679, 0.09633037, 0.09808221, 0.08020658, 0.08619692,\n",
       "       0.10399654, 0.0983484 , 0.08722934, 0.09712031, 0.08974364,\n",
       "       0.08735224, 0.09441078, 0.09935231, 0.0872268 , 0.09633252,\n",
       "       0.08257026, 0.08811123, 0.09149795, 0.08162335, 0.089738  ,\n",
       "       0.08519192, 0.09870631, 0.08663888, 0.0890486 , 0.10587414,\n",
       "       0.09074068, 0.09274187, 0.09496808, 0.09478168, 0.08800824,\n",
       "       0.09073614, 0.09332893, 0.0815322 , 0.090955  , 0.08843427,\n",
       "       0.0901342 , 0.08919473, 0.08805092, 0.08857452, 0.08860749,\n",
       "       0.09314002, 0.09079158, 0.09272367, 0.09699259, 0.08424563,\n",
       "       0.08897884, 0.08404288, 0.0879916 , 0.09150227, 0.08762223,\n",
       "       0.09470202, 0.07891112, 0.07746135, 0.08947288, 0.08892076,\n",
       "       0.0840924 , 0.0990228 , 0.08276294, 0.08906979, 0.07951422,\n",
       "       0.08053866, 0.08528217, 0.0949827 , 0.0989499 , 0.09172701,\n",
       "       0.08781717, 0.09242947, 0.08713453, 0.0872386 , 0.07978478,\n",
       "       0.0884003 , 0.08748512, 0.09516794, 0.08278732, 0.08084146,\n",
       "       0.0842899 , 0.08461714, 0.08670639, 0.0843244 , 0.0848118 ,\n",
       "       0.08957915, 0.08394054, 0.09900183, 0.07786677, 0.08748138,\n",
       "       0.08875471, 0.07929168, 0.08592897, 0.07972738, 0.09052527,\n",
       "       0.08998842, 0.08622145, 0.0739167 , 0.08277727, 0.08203951,\n",
       "       0.09343191, 0.07882437, 0.08032288, 0.07973787, 0.08536912,\n",
       "       0.08612121, 0.08982216, 0.07848198, 0.08089331, 0.08730991,\n",
       "       0.08406336, 0.08555007, 0.08626148, 0.07467093, 0.08079651,\n",
       "       0.09005674, 0.08371547, 0.08174881, 0.08663777, 0.08084121,\n",
       "       0.08276923, 0.08192212, 0.08671867, 0.09118286, 0.07909298,\n",
       "       0.08125457, 0.08086554, 0.0798916 , 0.08069887, 0.08162961,\n",
       "       0.07783232, 0.07946389, 0.07867661, 0.08116996, 0.08222617,\n",
       "       0.08510239, 0.08465568, 0.08080041, 0.08918336, 0.07508747,\n",
       "       0.08188764, 0.08543709, 0.08252406, 0.08177569, 0.07705166,\n",
       "       0.07310467, 0.07956967, 0.07899338, 0.07257098, 0.0797217 ,\n",
       "       0.0853861 , 0.07964259, 0.08279043, 0.07803306, 0.07711098,\n",
       "       0.07766805, 0.08535839, 0.07930237, 0.07240831, 0.0751151 ,\n",
       "       0.07893249, 0.08069282, 0.07264068, 0.08348021, 0.08781209,\n",
       "       0.07252313, 0.0747164 , 0.0745986 , 0.08571184, 0.07525837])"
      ]
     },
     "execution_count": 38,
     "metadata": {},
     "output_type": "execute_result"
    }
   ],
   "source": [
    "alphas"
   ]
  },
  {
   "cell_type": "markdown",
   "metadata": {},
   "source": [
    "#### 3.3 Teste"
   ]
  },
  {
   "cell_type": "markdown",
   "metadata": {},
   "source": [
    "Em seguida, testamos nossa partição de testes no modelo treinado acima."
   ]
  },
  {
   "cell_type": "code",
   "execution_count": 39,
   "metadata": {
    "scrolled": false
   },
   "outputs": [],
   "source": [
    "y_pred = predict(alphas, ensemble, X_test)"
   ]
  },
  {
   "cell_type": "code",
   "execution_count": 40,
   "metadata": {},
   "outputs": [
    {
     "name": "stdout",
     "output_type": "stream",
     "text": [
      "Accuracy: 0.9739583333333334\n"
     ]
    }
   ],
   "source": [
    "print(\"Accuracy:\",metrics.accuracy_score(y_test, y_pred))"
   ]
  }
 ],
 "metadata": {
  "colab": {
   "name": "TP1 ML",
   "provenance": []
  },
  "kernelspec": {
   "display_name": "Python 3",
   "language": "python",
   "name": "python3"
  },
  "language_info": {
   "codemirror_mode": {
    "name": "ipython",
    "version": 3
   },
   "file_extension": ".py",
   "mimetype": "text/x-python",
   "name": "python",
   "nbconvert_exporter": "python",
   "pygments_lexer": "ipython3",
   "version": "3.8.3"
  }
 },
 "nbformat": 4,
 "nbformat_minor": 1
}